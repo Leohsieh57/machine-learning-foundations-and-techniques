{
 "cells": [
  {
   "cell_type": "code",
   "execution_count": 4,
   "metadata": {},
   "outputs": [],
   "source": [
    "import torch\n",
    "import torch.nn as nn\n",
    "import torch.optim as optim\n",
    "import torch.nn.functional as F\n",
    "import torchvision\n",
    "import torchvision.transforms as transforms\n",
    "from torch.utils.data import Dataset, DataLoader\n",
    "import glob\n",
    "import os\n",
    "import numpy as np\n",
    "from PIL import Image\n",
    "import torchvision.models as models\n",
    "import copy\n",
    "from torchvision.utils import save_image\n",
    "import PIL\n",
    "import pandas as pd\n",
    "import matplotlib.pyplot as plt\n",
    "from lib import preprocessor as prep\n",
    "import csv"
   ]
  },
  {
   "cell_type": "code",
   "execution_count": 5,
   "metadata": {},
   "outputs": [
    {
     "name": "stdout",
     "output_type": "stream",
     "text": [
      "torch.Size([153, 448, 28]) torch.Size([640, 448, 28]) torch.Size([640, 1])\n"
     ]
    }
   ],
   "source": [
    "TrainFeature, TestFeature = prep.GetFeatureMatrix('data/train.csv', 'data/test.csv')\n",
    "TrainLabel = prep.LoadLabels('data/train_label.csv')\n",
    "torch.save(TestFeature, 'data/TestFeature.pt')\n",
    "torch.save(TrainFeature, 'data/TrainFeature.pt')\n",
    "torch.save(TrainLabel, 'data/TrainLabel.pt')\n",
    "print(TestFeature.shape, TrainFeature.shape, TrainLabel.shape)"
   ]
  }
 ],
 "metadata": {
  "kernelspec": {
   "display_name": "Python 3",
   "language": "python",
   "name": "python3"
  },
  "language_info": {
   "codemirror_mode": {
    "name": "ipython",
    "version": 3
   },
   "file_extension": ".py",
   "mimetype": "text/x-python",
   "name": "python",
   "nbconvert_exporter": "python",
   "pygments_lexer": "ipython3",
   "version": "3.8.6"
  }
 },
 "nbformat": 4,
 "nbformat_minor": 4
}
