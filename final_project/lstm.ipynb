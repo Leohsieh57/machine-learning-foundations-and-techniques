{
 "cells": [
  {
   "cell_type": "code",
   "execution_count": 1,
   "metadata": {},
   "outputs": [],
   "source": [
    "import numpy as np\n",
    "import torch\n",
    "from sklearn import ensemble, metrics\n",
    "import pandas as pd\n",
    "import csv\n",
    "import torch\n",
    "import torch.nn as nn\n",
    "import torch.optim as optim\n",
    "import torch.nn.functional as F\n",
    "import torchvision\n",
    "import torchvision.transforms as transforms\n",
    "from torch.utils.data import Dataset, DataLoader"
   ]
  },
  {
   "cell_type": "code",
   "execution_count": 2,
   "metadata": {},
   "outputs": [],
   "source": [
    "def GetDateLabel(ls):\n",
    "    assert(len(ls) == 3)\n",
    "    output = ''\n",
    "    for mem in ls:\n",
    "        output += str(mem)+'/'\n",
    "    return output[:-1]\n",
    "\n",
    "def GetDateLabelCvt(ip):\n",
    "    num_list = [int(mem) for mem in ip.split('-')]\n",
    "    return GetDateLabel(num_list)\n",
    "    \n",
    "class HotelBooking(Dataset):\n",
    "    def __init__(self, fn, fn_label):\n",
    "        data = pd.read_csv(fn)\n",
    "        data_list = ['arrival_date_year', 'arrival_date_month', 'arrival_date_day_of_month']\n",
    "        data_dict = {}\n",
    "        data_len = len(data['arrival_date_year'])\n",
    "        for idx in range(data_len):\n",
    "            label = GetDateLabel([data[key][idx] for key in data_list])\n",
    "            if not data_dict.get(label):\n",
    "                data_dict[label] = []\n",
    "            data_dict[label].append(idx)\n",
    "            \n",
    "        data_label = pd.read_csv(fn_label)\n",
    "        label_len = len(data_label['arrival_date'])\n",
    "        a, b = data_label['arrival_date'], data_label['label']\n",
    "        self.label_dict = {GetDateLabelCvt(a[i]):b[i] for i in range(label_len)}\n",
    "        self.data = data\n",
    "        self.data_dict = data_dict\n",
    "        self.date_list = [key for key in self.data_dict]\n",
    "        self.get_datelist_idx = {idx:key for idx, key in enumerate(self.date_list)}\n",
    "        self.len = len(self.date_list)\n",
    "        \n",
    "    def __getitem__(self, idx):\n",
    "        index_list = []\n",
    "        for i in range(max(0, idx-3), idx):\n",
    "            key = self.get_datelist_idx[i]\n",
    "            index_list += self.data_dict[key]\n",
    "            \n",
    "        if idx == 0:\n",
    "            key = self.get_datelist_idx[idx]\n",
    "            index_list += self.data_dict[key]\n",
    "        \n",
    "        tensor_list = []\n",
    "        for index in index_list:\n",
    "            output = self.data.iloc[index]\n",
    "            output = [[out for out in output][1:]]\n",
    "            output = torch.tensor(output)\n",
    "            tensor_list.append(output)\n",
    "        \n",
    "        return torch.cat(tensor_list, 0), self.label_dict[self.get_datelist_idx[idx]]\n",
    "    \n",
    "    def __len__(self):\n",
    "        return self.len"
   ]
  },
  {
   "cell_type": "code",
   "execution_count": 3,
   "metadata": {},
   "outputs": [],
   "source": [
    "class net(nn.Module):\n",
    "    def __init__(self):\n",
    "        super(net, self).__init__()\n",
    "        self.lstm = nn.LSTM(\n",
    "            batch_first=True,\n",
    "            input_size=245,\n",
    "            hidden_size=1000,\n",
    "            num_layers=10\n",
    "        )\n",
    "        self.fc = nn.Sequential(\n",
    "            nn.Linear(1000, 500),\n",
    "            nn.Dropout(0.5),\n",
    "            nn.ReLU(),\n",
    "            nn.Linear(500, 50),\n",
    "            nn.Dropout(0.5),\n",
    "            nn.ReLU(),\n",
    "            nn.Linear(50, 10)\n",
    "        )\n",
    "        \n",
    "    def forward(self, data):\n",
    "        data, _ = self.lstm(data.float())\n",
    "        data = data[:,-1]\n",
    "        return self.fc(data)      "
   ]
  },
  {
   "cell_type": "code",
   "execution_count": 4,
   "metadata": {},
   "outputs": [],
   "source": [
    "def test():\n",
    "    model.eval()\n",
    "    correct = 0\n",
    "    with torch.no_grad():\n",
    "        for batch_idx, (data, label) in enumerate(loader):\n",
    "            data, label = data.cuda(), label.cuda().long()\n",
    "            output = model(data)\n",
    "            _, pred = torch.max(output, 1)\n",
    "            correct += (pred == label).sum()\n",
    "            if batch_idx % max(1, int(len(loader)/10)) == 0:\n",
    "                print('Test progress: {}/{}'.format(batch_idx+1, len(loader)))\n",
    "    return correct.item() / len(loader.dataset) \n",
    "\n",
    "def train(n_epoch = 100):\n",
    "    best_acc = 0\n",
    "    for epoch in range(n_epoch):\n",
    "        model.train()\n",
    "        for batch_idx, (data, label) in enumerate(loader):\n",
    "            model.zero_grad()\n",
    "            data, label = data.cuda(), label.cuda().long()\n",
    "            output = model(data)\n",
    "            loss = F.cross_entropy(output, label)\n",
    "            loss.backward()\n",
    "            optimizer.step()\n",
    "            if batch_idx % max(1, int(len(loader)/20)) == 0:\n",
    "                print('Epoch: {}/{}\\tProgress: {:.2f}% ({}/{})\\tLoss: {:.4f}'.format(epoch+1, n_epoch,\n",
    "                      (batch_idx+1)*100./len(loader), batch_idx+1, len(loader), loss.item()))\n",
    "                      \n",
    "        acc = test()\n",
    "        print('*****Accuracy: {:.4f}'.format(acc),'\\n')\n",
    "        if acc > best_acc:\n",
    "            best_acc = acc\n",
    "            th.saveModel('models/best.pth', net, optimizer)"
   ]
  },
  {
   "cell_type": "code",
   "execution_count": 5,
   "metadata": {},
   "outputs": [],
   "source": [
    "model = net().cuda()\n",
    "optimizer = optim.Adam(model.parameters(), lr=0.0001, betas=(0.5, 0.999))\n",
    "train_set = HotelBooking('data/preprocessed/train_processed.csv', 'data/label.csv')\n",
    "loader = DataLoader(train_set, batch_size=1, shuffle=True, num_workers=0)"
   ]
  },
  {
   "cell_type": "code",
   "execution_count": null,
   "metadata": {},
   "outputs": [
    {
     "name": "stdout",
     "output_type": "stream",
     "text": [
      "Epoch: 1/100\tProgress: 0.16% (1/640)\tLoss: 2.2599\n",
      "Epoch: 1/100\tProgress: 5.16% (33/640)\tLoss: 2.2329\n",
      "Epoch: 1/100\tProgress: 10.16% (65/640)\tLoss: 1.9877\n",
      "Epoch: 1/100\tProgress: 15.16% (97/640)\tLoss: 2.8252\n",
      "Epoch: 1/100\tProgress: 20.16% (129/640)\tLoss: 2.0381\n",
      "Epoch: 1/100\tProgress: 25.16% (161/640)\tLoss: 2.4029\n"
     ]
    }
   ],
   "source": [
    "train()"
   ]
  },
  {
   "cell_type": "code",
   "execution_count": null,
   "metadata": {},
   "outputs": [],
   "source": []
  }
 ],
 "metadata": {
  "kernelspec": {
   "display_name": "Python 3",
   "language": "python",
   "name": "python3"
  },
  "language_info": {
   "codemirror_mode": {
    "name": "ipython",
    "version": 3
   },
   "file_extension": ".py",
   "mimetype": "text/x-python",
   "name": "python",
   "nbconvert_exporter": "python",
   "pygments_lexer": "ipython3",
   "version": "3.8.6"
  }
 },
 "nbformat": 4,
 "nbformat_minor": 4
}
