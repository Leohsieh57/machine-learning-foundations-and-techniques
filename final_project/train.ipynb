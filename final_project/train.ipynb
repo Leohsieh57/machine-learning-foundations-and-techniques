{
 "cells": [
  {
   "cell_type": "code",
   "execution_count": 1,
   "metadata": {},
   "outputs": [],
   "source": [
    "import torch\n",
    "import torch.nn as nn\n",
    "import torch.optim as optim\n",
    "import torch.nn.functional as F\n",
    "from torch.utils.data import Dataset, DataLoader\n",
    "from lib import model_device_io as io\n",
    "from lib import data_loader as dl"
   ]
  },
  {
   "cell_type": "code",
   "execution_count": 2,
   "metadata": {},
   "outputs": [
    {
     "name": "stdout",
     "output_type": "stream",
     "text": [
      "Encoding completed\n",
      "\n",
      "Using the Following Notation: \n",
      " {'Check-Out, 0': 0, 'Check-Out, 1': 1, 'Canceled, 0': 2, 'Canceled, 1': 3, 'No-Show, 0': 4, 'No-Show, 1': 5}\n"
     ]
    }
   ],
   "source": [
    "#encode non float scripts with one-hot vec and show encoding dictionary\n",
    "tensors = prep.GetFeatureVectorsAndLabels(fnTrain = 'data/train.csv', fnTest = 'data/test.csv')"
   ]
  },
  {
   "cell_type": "code",
   "execution_count": 3,
   "metadata": {},
   "outputs": [
    {
     "name": "stdout",
     "output_type": "stream",
     "text": [
      "data/train_data_tensor.pt \t torch.Size([91531, 258])\n",
      "data/test_data_tensor.pt \t torch.Size([27859, 258])\n",
      "data/train_label_tensor_adr.pt \t torch.Size([91531, 1])\n",
      "data/train_label_tensor_rev.pt \t torch.Size([91531, 1])\n"
     ]
    }
   ],
   "source": [
    "#save tensors\n",
    "fnList = ['train_data_tensor.pt', 'test_data_tensor.pt', 'train_label_tensor_adr.pt', 'train_label_tensor_rev.pt']\n",
    "for tensor, fn in zip(tensors, fnList):\n",
    "    torch.save(tensor, os.path.join('data', fn))\n",
    "    \n",
    "#reload to check if saving succeeded\n",
    "for fn in fnList:\n",
    "    fn = os.path.join('data', fn)\n",
    "    print(fn, '\\t', torch.load(fn).shape)"
   ]
  },
  {
   "cell_type": "code",
   "execution_count": 4,
   "metadata": {},
   "outputs": [],
   "source": [
    "#split test set from train set for validations\n",
    "train_data_tensor, _,  train_label_tensor_adr, train_label_tensor_rev = tensors\n",
    "tensors = prep.RandomSplit(train_data_tensor, train_label_tensor_adr, train_label_tensor_rev, 10000)"
   ]
  },
  {
   "cell_type": "code",
   "execution_count": 5,
   "metadata": {},
   "outputs": [
    {
     "name": "stdout",
     "output_type": "stream",
     "text": [
      "data/test/data.pt \t torch.Size([10000, 258])\n",
      "data/train/data.pt \t torch.Size([81531, 258])\n",
      "data/test/adr.pt \t torch.Size([10000, 1])\n",
      "data/train/adr.pt \t torch.Size([81531, 1])\n",
      "data/test/rev.pt \t torch.Size([10000, 1])\n",
      "data/train/rev.pt \t torch.Size([81531, 1])\n"
     ]
    }
   ],
   "source": [
    "#save tensors\n",
    "fnList = ['test/data.pt', 'train/data.pt', 'test/adr.pt', 'train/adr.pt', 'test/rev.pt', 'train/rev.pt']\n",
    "for tensor, fn in zip(tensors, fnList):\n",
    "    torch.save(tensor, os.path.join('data', fn))\n",
    "\n",
    "#reload to check if saving succeeded   \n",
    "for fn in fnList:\n",
    "    fn = os.path.join('data', fn)\n",
    "    print(fn, '\\t', torch.load(fn).shape)"
   ]
  }
 ],
 "metadata": {
  "kernelspec": {
   "display_name": "Python 3",
   "language": "python",
   "name": "python3"
  },
  "language_info": {
   "codemirror_mode": {
    "name": "ipython",
    "version": 3
   },
   "file_extension": ".py",
   "mimetype": "text/x-python",
   "name": "python",
   "nbconvert_exporter": "python",
   "pygments_lexer": "ipython3",
   "version": "3.8.6"
  }
 },
 "nbformat": 4,
 "nbformat_minor": 4
}
