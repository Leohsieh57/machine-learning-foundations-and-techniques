{
 "cells": [
  {
   "cell_type": "code",
   "execution_count": 1,
   "metadata": {},
   "outputs": [],
   "source": [
    "import torch\n",
    "from lib import preprocessor as prep"
   ]
  },
  {
   "cell_type": "code",
   "execution_count": 2,
   "metadata": {},
   "outputs": [
    {
     "name": "stdout",
     "output_type": "stream",
     "text": [
      "Encoding completed\n",
      "\n",
      "Using the Following Notation: \n",
      " {'Check-Out, 0': 0, 'Check-Out, 1': 1, 'Canceled, 0': 2, 'Canceled, 1': 3, 'No-Show, 0': 4, 'No-Show, 1': 5}\n"
     ]
    }
   ],
   "source": [
    "args = prep.GetFeatureVectorsAndLabels(fnTrain = 'data/train.csv', fnTest = 'data/test.csv')\n",
    "train_data_tensor, test_data_tensor, train_label_tensor_adr, train_label_tensor_rev = args"
   ]
  },
  {
   "cell_type": "code",
   "execution_count": 3,
   "metadata": {},
   "outputs": [
    {
     "name": "stdout",
     "output_type": "stream",
     "text": [
      "train_data_tensor:\t torch.Size([91531, 258])\n",
      "test_data_tensor:\t torch.Size([27859, 258])\n",
      "train_label_tensor_adr:\t torch.Size([91531, 1])\n",
      "train_label_tensor_rev:\t torch.Size([91531, 1])\n"
     ]
    }
   ],
   "source": [
    "print('train_data_tensor:\\t',train_data_tensor.shape)\n",
    "print('test_data_tensor:\\t',test_data_tensor.shape)\n",
    "print('train_label_tensor_adr:\\t',train_label_tensor_adr.shape)\n",
    "print('train_label_tensor_rev:\\t',train_label_tensor_rev.shape)"
   ]
  },
  {
   "cell_type": "code",
   "execution_count": 4,
   "metadata": {},
   "outputs": [],
   "source": [
    "torch.save(train_data_tensor, 'data/train_data_tensor.pt')\n",
    "torch.save(test_data_tensor, 'data/test_data_tensor.pt')\n",
    "torch.save(train_label_tensor_adr, 'data/train_label_tensor_adr.pt')\n",
    "torch.save(train_label_tensor_rev,'data/train_label_tensor_rev.pt')"
   ]
  },
  {
   "cell_type": "code",
   "execution_count": 5,
   "metadata": {},
   "outputs": [
    {
     "name": "stdout",
     "output_type": "stream",
     "text": [
      "data/train_data_tensor.pt \t torch.Size([91531, 258])\n",
      "data/test_data_tensor.pt \t torch.Size([27859, 258])\n",
      "data/train_label_tensor_adr.pt \t torch.Size([91531, 1])\n",
      "data/train_label_tensor_rev.pt \t torch.Size([91531, 1])\n"
     ]
    }
   ],
   "source": [
    "fnList = ['train_data_tensor.pt', 'test_data_tensor.pt', 'train_label_tensor_adr.pt', 'train_label_tensor_rev.pt']\n",
    "for fn in fnList:\n",
    "    print('data/'+fn, '\\t', torch.load('data/'+fn).shape)"
   ]
  }
 ],
 "metadata": {
  "kernelspec": {
   "display_name": "Python 3",
   "language": "python",
   "name": "python3"
  },
  "language_info": {
   "codemirror_mode": {
    "name": "ipython",
    "version": 3
   },
   "file_extension": ".py",
   "mimetype": "text/x-python",
   "name": "python",
   "nbconvert_exporter": "python",
   "pygments_lexer": "ipython3",
   "version": "3.8.6"
  }
 },
 "nbformat": 4,
 "nbformat_minor": 4
}
