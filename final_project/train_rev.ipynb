{
 "cells": [
  {
   "cell_type": "code",
   "execution_count": 1,
   "metadata": {},
   "outputs": [],
   "source": [
    "import numpy as np\n",
    "import torch\n",
    "from sklearn import ensemble, metrics\n",
    "from lib import data_loader as dl"
   ]
  },
  {
   "cell_type": "code",
   "execution_count": 2,
   "metadata": {},
   "outputs": [
    {
     "name": "stdout",
     "output_type": "stream",
     "text": [
      "Accuracy = 0.9053\n"
     ]
    }
   ],
   "source": [
    "forest = ensemble.RandomForestClassifier(n_estimators = 100)\n",
    "train_x, train_y, test_x, test_y = dl.LoadDataNumpy('data')\n",
    "forest.fit(train_x, train_y)\n",
    "test_y_predicted = forest.predict(test_x)\n",
    "accuracy = metrics.accuracy_score(test_y, test_y_predicted)\n",
    "print('Accuracy =', accuracy)"
   ]
  },
  {
   "cell_type": "code",
   "execution_count": 4,
   "metadata": {},
   "outputs": [
    {
     "name": "stdout",
     "output_type": "stream",
     "text": [
      "data successfully saved at data/prediction/val_y_predicted.npy\n"
     ]
    }
   ],
   "source": [
    "val_x = dl.GetValidationVectors('data')\n",
    "val_y_predicted = forest.predict(val_x)\n",
    "fn = 'data/prediction/val_y_predicted.npy'\n",
    "np.save(fn, val_y_predicted)\n",
    "print('data successfully saved at',fn)"
   ]
  }
 ],
 "metadata": {
  "kernelspec": {
   "display_name": "Python 3",
   "language": "python",
   "name": "python3"
  },
  "language_info": {
   "codemirror_mode": {
    "name": "ipython",
    "version": 3
   },
   "file_extension": ".py",
   "mimetype": "text/x-python",
   "name": "python",
   "nbconvert_exporter": "python",
   "pygments_lexer": "ipython3",
   "version": "3.8.6"
  }
 },
 "nbformat": 4,
 "nbformat_minor": 4
}
