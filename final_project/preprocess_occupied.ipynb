{
 "cells": [
  {
   "cell_type": "code",
   "execution_count": 4,
   "metadata": {},
   "outputs": [],
   "source": [
    "import pandas as pd\n",
    "import csv"
   ]
  },
  {
   "cell_type": "code",
   "execution_count": 7,
   "metadata": {},
   "outputs": [],
   "source": [
    "def get_header(fn):\n",
    "    with open(fn, mode='r') as test:\n",
    "        reader = csv.reader(test)\n",
    "        rowList = [row[1:] for row in reader]\n",
    "        header = rowList.pop(0)\n",
    "        return header"
   ]
  },
  {
   "cell_type": "code",
   "execution_count": 10,
   "metadata": {},
   "outputs": [
    {
     "name": "stdout",
     "output_type": "stream",
     "text": [
      "245\n",
      "['lead_time', 'arrival_date_year', 'arrival_date_month', 'arrival_date_week_number', 'arrival_date_day_of_month', 'stays_in_weekend_nights', 'stays_in_week_nights', 'adults', 'children', 'babies', 'is_repeated_guest', 'previous_cancellations', 'previous_bookings_not_canceled', 'booking_changes', 'agent', 'company', 'days_in_waiting_list', 'required_car_parking_spaces', 'total_of_special_requests', 'hotel_City Hotel', 'hotel_Resort Hotel', 'meal_BB', 'meal_FB', 'meal_HB', 'meal_SC', 'market_segment_Aviation', 'market_segment_Complementary', 'market_segment_Corporate', 'market_segment_Direct', 'market_segment_Groups', 'market_segment_Offline TA/TO', 'market_segment_Online TA', 'market_segment_Undefined', 'distribution_channel_Corporate', 'distribution_channel_Direct', 'distribution_channel_GDS', 'distribution_channel_TA/TO', 'distribution_channel_Undefined', 'reserved_room_type_A', 'reserved_room_type_B', 'reserved_room_type_C', 'reserved_room_type_D', 'reserved_room_type_E', 'reserved_room_type_F', 'reserved_room_type_G', 'reserved_room_type_H', 'reserved_room_type_L', 'reserved_room_type_P', 'assigned_room_type_A', 'assigned_room_type_B', 'assigned_room_type_C', 'assigned_room_type_D', 'assigned_room_type_E', 'assigned_room_type_F', 'assigned_room_type_G', 'assigned_room_type_H', 'assigned_room_type_I', 'assigned_room_type_K', 'assigned_room_type_L', 'assigned_room_type_P', 'deposit_type_No Deposit', 'deposit_type_Non Refund', 'deposit_type_Refundable', 'customer_type_Contract', 'customer_type_Group', 'customer_type_Transient', 'customer_type_Transient-Party', 'country_0    PRT', 'country_ABW', 'country_AGO', 'country_AIA', 'country_ALB', 'country_AND', 'country_ARE', 'country_ARG', 'country_ARM', 'country_ASM', 'country_ATA', 'country_ATF', 'country_AUS', 'country_AUT', 'country_AZE', 'country_BDI', 'country_BEL', 'country_BEN', 'country_BFA', 'country_BGD', 'country_BGR', 'country_BHR', 'country_BHS', 'country_BIH', 'country_BLR', 'country_BOL', 'country_BRA', 'country_BRB', 'country_BWA', 'country_CAF', 'country_CHE', 'country_CHL', 'country_CHN', 'country_CIV', 'country_CMR', 'country_CN', 'country_COL', 'country_COM', 'country_CPV', 'country_CRI', 'country_CUB', 'country_CYM', 'country_CYP', 'country_CZE', 'country_DEU', 'country_DJI', 'country_DMA', 'country_DNK', 'country_DOM', 'country_DZA', 'country_ECU', 'country_EGY', 'country_ESP', 'country_EST', 'country_ETH', 'country_FIN', 'country_FJI', 'country_FRA', 'country_FRO', 'country_GAB', 'country_GBR', 'country_GEO', 'country_GGY', 'country_GHA', 'country_GIB', 'country_GLP', 'country_GNB', 'country_GRC', 'country_GTM', 'country_GUY', 'country_HKG', 'country_HND', 'country_HRV', 'country_HUN', 'country_IDN', 'country_IMN', 'country_IND', 'country_IRL', 'country_IRN', 'country_IRQ', 'country_ISL', 'country_ISR', 'country_ITA', 'country_JAM', 'country_JEY', 'country_JOR', 'country_JPN', 'country_KAZ', 'country_KEN', 'country_KHM', 'country_KIR', 'country_KNA', 'country_KOR', 'country_KWT', 'country_LAO', 'country_LBN', 'country_LBY', 'country_LCA', 'country_LIE', 'country_LKA', 'country_LTU', 'country_LUX', 'country_LVA', 'country_MAC', 'country_MAR', 'country_MCO', 'country_MDG', 'country_MDV', 'country_MEX', 'country_MKD', 'country_MLI', 'country_MLT', 'country_MMR', 'country_MNE', 'country_MOZ', 'country_MRT', 'country_MUS', 'country_MWI', 'country_MYS', 'country_MYT', 'country_NAM', 'country_NCL', 'country_NGA', 'country_NIC', 'country_NLD', 'country_NOR', 'country_NPL', 'country_NZL', 'country_OMN', 'country_PAK', 'country_PAN', 'country_PER', 'country_PHL', 'country_PLW', 'country_POL', 'country_PRI', 'country_PRT', 'country_PRY', 'country_PYF', 'country_QAT', 'country_ROU', 'country_RUS', 'country_RWA', 'country_SAU', 'country_SDN', 'country_SEN', 'country_SGP', 'country_SLE', 'country_SLV', 'country_SMR', 'country_SRB', 'country_STP', 'country_SUR', 'country_SVK', 'country_SVN', 'country_SWE', 'country_SYC', 'country_SYR', 'country_TGO', 'country_THA', 'country_TJK', 'country_TMP', 'country_TUN', 'country_TUR', 'country_TWN', 'country_TZA', 'country_UGA', 'country_UKR', 'country_UMI', 'country_URY', 'country_USA', 'country_UZB', 'country_VEN', 'country_VGB', 'country_VNM', 'country_ZAF', 'country_ZMB', 'country_ZWE']\n"
     ]
    }
   ],
   "source": [
    "print(len(get_header('data/preprocessed/train_processed.csv')))\n",
    "print(get_header('data/preprocessed/test_processed.csv'))"
   ]
  },
  {
   "cell_type": "code",
   "execution_count": null,
   "metadata": {},
   "outputs": [],
   "source": []
  }
 ],
 "metadata": {
  "kernelspec": {
   "display_name": "Python 3",
   "language": "python",
   "name": "python3"
  },
  "language_info": {
   "codemirror_mode": {
    "name": "ipython",
    "version": 3
   },
   "file_extension": ".py",
   "mimetype": "text/x-python",
   "name": "python",
   "nbconvert_exporter": "python",
   "pygments_lexer": "ipython3",
   "version": "3.8.6"
  }
 },
 "nbformat": 4,
 "nbformat_minor": 4
}
