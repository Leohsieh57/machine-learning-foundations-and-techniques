{
 "cells": [
  {
   "cell_type": "code",
   "execution_count": 1,
   "metadata": {},
   "outputs": [],
   "source": [
    "import numpy as np\n",
    "from liblinearutil import *\n",
    "import csv"
   ]
  },
  {
   "cell_type": "code",
   "execution_count": 2,
   "metadata": {},
   "outputs": [],
   "source": [
    "def loadData(filename):   \n",
    "    with open(filename,'r') as file:  \n",
    "        dataSet = [line[0].split(' ') for line in csv.reader(file)]\n",
    "    return np.array(dataSet, dtype = \"float32\")\n",
    "\n",
    "def nonlinearExpansion(data):\n",
    "    xVec = data.tolist()[:-1]\n",
    "    return [1]+xVec+[xVec[i]*xVec[j] for i in range(len(xVec)) for j in range(i, len(xVec))]"
   ]
  },
  {
   "cell_type": "code",
   "execution_count": 3,
   "metadata": {},
   "outputs": [],
   "source": [
    "trainData  = loadData('hw4_train.dat')\n",
    "testData   = loadData('hw4_test.dat')\n",
    "inputTrain = [nonlinearExpansion(vec) for vec in trainData]\n",
    "labelTrain = [vec[-1] for vec in trainData]\n",
    "inputTest  = [nonlinearExpansion(vec) for vec in testData]\n",
    "labelTest  = [vec[-1] for vec in testData]"
   ]
  },
  {
   "cell_type": "code",
   "execution_count": 4,
   "metadata": {},
   "outputs": [],
   "source": [
    "def getW(Lambda, labels=labelTrain, inputs=inputTrain):\n",
    "    c = 1/(2*Lambda)\n",
    "    prob = problem(labels, inputs)\n",
    "    param = parameter('-s 0 -c ' + str(c) + ' -e 0.000001')\n",
    "    model = train(prob, param)\n",
    "    return model.get_decfun()[0]\n",
    "\n",
    "def Ein(w, labels=labelTrain, inputs=inputTrain):\n",
    "    errorList = [np.dot(w,x)*y <= 0 for x, y in zip(inputs, labels)]\n",
    "    return np.average(errorList)"
   ]
  },
  {
   "cell_type": "code",
   "execution_count": 5,
   "metadata": {},
   "outputs": [
    {
     "name": "stdout",
     "output_type": "stream",
     "text": [
      "outcome: [0.1333, 0.13, 0.1933, 0.2567, 0.4833]\n"
     ]
    }
   ],
   "source": [
    "# question 16\n",
    "lambdaList = [1e-4, 1e-2, 1, 1e2, 1e4]\n",
    "wList = [getW(Lambda) for Lambda in lambdaList]\n",
    "outcomeList = [Ein(w, labels=labelTest, inputs=inputTest) for w in wList]\n",
    "print('outcome:', [round(outcome, 4) for outcome in outcomeList])"
   ]
  },
  {
   "cell_type": "code",
   "execution_count": 6,
   "metadata": {},
   "outputs": [
    {
     "name": "stdout",
     "output_type": "stream",
     "text": [
      "outcome: [0.09, 0.1, 0.13, 0.195, 0.535]\n"
     ]
    }
   ],
   "source": [
    "# question 17\n",
    "lambdaList = [1e-4, 1e-2, 1, 1e2, 1e4]\n",
    "wList = [getW(Lambda) for Lambda in lambdaList]\n",
    "outcomeList = [Ein(w) for w in wList]\n",
    "print('outcome:', [round(outcome, 4) for outcome in outcomeList])"
   ]
  },
  {
   "cell_type": "code",
   "execution_count": 7,
   "metadata": {},
   "outputs": [
    {
     "name": "stdout",
     "output_type": "stream",
     "text": [
      "outcome: [0.2, 0.1375, 0.2375, 0.2625, 0.575]\n"
     ]
    }
   ],
   "source": [
    "# question 18\n",
    "lambdaList = [1e-4, 1e-2, 1, 1e2, 1e4]\n",
    "wList = [getW(Lambda, labels=labelTrain[:120], inputs=inputTrain[:120]) for Lambda in lambdaList]\n",
    "outcomeList = [Ein(w, labels=labelTrain[120:], inputs=inputTrain[120:]) for w in wList]\n",
    "print('outcome:', [round(outcome, 4) for outcome in outcomeList])"
   ]
  },
  {
   "cell_type": "code",
   "execution_count": 8,
   "metadata": {},
   "outputs": [
    {
     "name": "stdout",
     "output_type": "stream",
     "text": [
      "ans: 0.13\n"
     ]
    }
   ],
   "source": [
    "# question 19\n",
    "w_opt = getW(1e-2)\n",
    "print('ans:',Ein(w_opt, labels=labelTest, inputs=inputTest))"
   ]
  },
  {
   "cell_type": "code",
   "execution_count": 9,
   "metadata": {},
   "outputs": [
    {
     "name": "stdout",
     "output_type": "stream",
     "text": [
      "outcome: [0.145, 0.12, 0.155, 0.18, 0.52]\n"
     ]
    }
   ],
   "source": [
    "# question 20\n",
    "def foldSeg(i):\n",
    "    dropIdx = range(i*40,(i+1)*40)\n",
    "    remInputs  = [data for idx, data in enumerate(inputTrain) if idx not in dropIdx]\n",
    "    dropInputs = [data for idx, data in enumerate(inputTrain) if idx in dropIdx]\n",
    "    remLabels  = [data for idx, data in enumerate(labelTrain) if idx not in dropIdx]\n",
    "    dropLabels = [data for idx, data in enumerate(labelTrain) if idx in dropIdx]\n",
    "    return remInputs, dropInputs, remLabels, dropLabels\n",
    "\n",
    "def Ecv(Lambda):\n",
    "    Ecv = 0\n",
    "    for i in range(5):\n",
    "        remInputs, dropInputs, remLabels, dropLabels = foldSeg(i)\n",
    "        w = getW(Lambda, labels=remLabels,inputs=remInputs)\n",
    "        Ecv += Ein(w, labels=dropLabels,inputs=dropInputs)/5.\n",
    "    return Ecv\n",
    "\n",
    "lambdaList = [1e-4, 1e-2, 1, 1e2, 1e4]\n",
    "outcomeList = [Ecv(Lambda) for Lambda in lambdaList]\n",
    "print('outcome:', [round(outcome, 4) for outcome in outcomeList])"
   ]
  }
 ],
 "metadata": {
  "kernelspec": {
   "display_name": "Python 3",
   "language": "python",
   "name": "python3"
  },
  "language_info": {
   "codemirror_mode": {
    "name": "ipython",
    "version": 3
   },
   "file_extension": ".py",
   "mimetype": "text/x-python",
   "name": "python",
   "nbconvert_exporter": "python",
   "pygments_lexer": "ipython3",
   "version": "3.8.6"
  }
 },
 "nbformat": 4,
 "nbformat_minor": 4
}
