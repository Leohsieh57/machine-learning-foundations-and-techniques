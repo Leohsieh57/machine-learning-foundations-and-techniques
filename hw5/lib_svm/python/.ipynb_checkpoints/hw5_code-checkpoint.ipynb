{
 "cells": [
  {
   "cell_type": "code",
   "execution_count": 1,
   "metadata": {},
   "outputs": [],
   "source": [
    "import numpy as np\n",
    "import math \n",
    "from svmutil import *\n",
    "    \n",
    "\n",
    "def read_data(dataName):\n",
    "    yTrain, xTrain = svm_read_problem(dataName)\n",
    "    return yTrain, xTrain\n",
    "\n",
    "\n",
    "\n",
    "def to_binary_class(y,label):\n",
    "    newy = y.copy()\n",
    "    for i in range(len(y)):\n",
    "        if newy[i] != label:\n",
    "            newy[i] = -1\n",
    "        else:\n",
    "            newy[i] = 1\n",
    "    return newy\n",
    "\n",
    "def sparse_to_dense(xTrain):\n",
    "    x = xTrain.copy()\n",
    "    newX = np.zeros(36)\n",
    "    for index in range(36):\n",
    "        i = index +1\n",
    "        if x.get(i) != None:\n",
    "            newX[index] = x.get(i)\n",
    "        else:\n",
    "            newX[index] = 0\n",
    "    return newX           \n"
   ]
  },
  {
   "cell_type": "code",
   "execution_count": null,
   "metadata": {},
   "outputs": [],
   "source": []
  },
  {
   "cell_type": "code",
   "execution_count": 2,
   "metadata": {},
   "outputs": [
    {
     "name": "stdout",
     "output_type": "stream",
     "text": [
      "||w|| = 8.457084298367683\n",
      "500\n"
     ]
    }
   ],
   "source": [
    "#question 15\n",
    "def calculate_w (yTrain,xTrain):\n",
    "    yTrain = yTrain.copy()\n",
    "    xTrain = xTrain.copy()\n",
    "    m = svm_train(yTrain,xTrain,'-c 10 -t 0')\n",
    "    w = np.zeros(36)\n",
    "    for i in range(m.l):\n",
    "        sv_indice = m.sv_indices[i]-1\n",
    "        w = w + m.sv_coef[0][i]*sparse_to_dense(xTrain[sv_indice])\n",
    "        \n",
    "    print('||w|| = '+str(np.linalg.norm(w)))\n",
    "    print(m.l)\n",
    "    return(w)\n",
    "    \n",
    "    \n",
    "        \n",
    "yTrain,xTrain = read_data('satimage.scale')\n",
    "newy3 = to_binary_class(yTrain,3)\n",
    "w = calculate_w (newy3,xTrain)\n"
   ]
  },
  {
   "cell_type": "code",
   "execution_count": 30,
   "metadata": {},
   "outputs": [],
   "source": [
    " #question 16\n",
    "    \n",
    "def kernel(xn,xm):\n",
    "    xn = xn.copy()\n",
    "    xm = xm.copy()\n",
    "    return (1+np.dot(xn,xm))*(1+np.dot(xn,xm))\n",
    "    \n",
    "    \n",
    "def calculate_Ein(y,x):\n",
    "    y = y.copy()\n",
    "    x = x.copy()\n",
    "    m = svm_train(y,x,'-t 1 -d 2 -g 1 -r 1 -c 10')\n",
    "    b = -m.rho[0]  \n",
    "    \n",
    "    E_in = 0\n",
    "    for i in range(len(y)):\n",
    "        gSVM = 0\n",
    "        for j in range (m.l):\n",
    "            SVM_index = m.sv_indices[j]-1\n",
    "            gSVM = gSVM + (m.sv_coef[0][j] * kernel(sparse_to_dense(x[SVM_index]),sparse_to_dense(x[i])) + b)\n",
    "        if gSVM * y[i] < 0:\n",
    "            E_in += 1\n",
    "    E_in = E_in/len(y)\n",
    "    print ('number of SVM = ' + str(m.l))\n",
    "    return E_in"
   ]
  },
  {
   "cell_type": "code",
   "execution_count": 31,
   "metadata": {},
   "outputs": [
    {
     "name": "stdout",
     "output_type": "stream",
     "text": [
      "rho-0.0060891379351281335\n",
      "b-0.006088043921711611\n",
      "number of SVM = 145\n",
      "1 versus not 1 E_in: 0.0006764374295377678\n",
      "rho-2.5476250168295476\n",
      "b-2.5474141821353404\n",
      "number of SVM = 87\n",
      "2 versus not 2 E_in: 0.10800450958286359\n",
      "rho-6.225146722120392\n",
      "b-6.225192499115046\n",
      "number of SVM = 433\n",
      "3 versus not 3 E_in: 0.21668545659526495\n",
      "rho-2.338586747086251\n",
      "b-2.3386971202721654\n",
      "number of SVM = 712\n",
      "4 versus not 4 E_in: 0.0935738444193912\n",
      "rho2.0362841350038057\n",
      "b2.03634965993394\n",
      "number of SVM = 259\n",
      "5 versus not 5 E_in: 0.8940248027057497\n"
     ]
    }
   ],
   "source": [
    "\n",
    "newy1 = to_binary_class(yTrain,1)\n",
    "print ('1 versus not 1 E_in: ' + str(calculate_Ein(newy1,xTrain)))\n",
    "newy2 = to_binary_class(yTrain,2)\n",
    "print ('2 versus not 2 E_in: ' + str(calculate_Ein(newy2,xTrain)))\n",
    "newy3 = to_binary_class(yTrain,3)\n",
    "print ('3 versus not 3 E_in: ' + str(calculate_Ein(newy3,xTrain)))\n",
    "newy4 = to_binary_class(yTrain,4)\n",
    "print ('4 versus not 4 E_in: ' + str(calculate_Ein(newy4,xTrain)))\n",
    "newy5 = to_binary_class(yTrain,5)\n",
    "print ('5 versus not 5 E_in: ' + str(calculate_Ein(newy5,xTrain)))\n"
   ]
  },
  {
   "cell_type": "code",
   "execution_count": 40,
   "metadata": {},
   "outputs": [
    {
     "name": "stdout",
     "output_type": "stream",
     "text": [
      "number of SVM = 3843\n",
      "C = 0.01, Eout = 0.235\n",
      "number of SVM = 3883\n",
      "C = 0.1, Eout = 0.235\n",
      "number of SVM = 3690\n"
     ]
    },
    {
     "ename": "KeyboardInterrupt",
     "evalue": "",
     "output_type": "error",
     "traceback": [
      "\u001b[0;31m---------------------------------------------------------------------------\u001b[0m",
      "\u001b[0;31mKeyboardInterrupt\u001b[0m                         Traceback (most recent call last)",
      "\u001b[0;32m<ipython-input-40-ca4974abecb7>\u001b[0m in \u001b[0;36m<module>\u001b[0;34m\u001b[0m\n\u001b[1;32m     30\u001b[0m \u001b[0mprint\u001b[0m\u001b[0;34m(\u001b[0m\u001b[0;34m'C = 0.01, Eout = '\u001b[0m \u001b[0;34m+\u001b[0m \u001b[0mstr\u001b[0m\u001b[0;34m(\u001b[0m\u001b[0mcalculate_Eout\u001b[0m\u001b[0;34m(\u001b[0m\u001b[0mnewy6\u001b[0m\u001b[0;34m,\u001b[0m\u001b[0mxTrain\u001b[0m\u001b[0;34m,\u001b[0m\u001b[0mnewYTest\u001b[0m\u001b[0;34m,\u001b[0m\u001b[0mxTest\u001b[0m\u001b[0;34m,\u001b[0m\u001b[0;34m'-t 2 -c 0.01 -g 10'\u001b[0m\u001b[0;34m)\u001b[0m\u001b[0;34m)\u001b[0m\u001b[0;34m)\u001b[0m\u001b[0;34m\u001b[0m\u001b[0;34m\u001b[0m\u001b[0m\n\u001b[1;32m     31\u001b[0m \u001b[0mprint\u001b[0m\u001b[0;34m(\u001b[0m\u001b[0;34m'C = 0.1, Eout = '\u001b[0m \u001b[0;34m+\u001b[0m \u001b[0mstr\u001b[0m\u001b[0;34m(\u001b[0m\u001b[0mcalculate_Eout\u001b[0m\u001b[0;34m(\u001b[0m\u001b[0mnewy6\u001b[0m\u001b[0;34m,\u001b[0m\u001b[0mxTrain\u001b[0m\u001b[0;34m,\u001b[0m\u001b[0mnewYTest\u001b[0m\u001b[0;34m,\u001b[0m\u001b[0mxTest\u001b[0m\u001b[0;34m,\u001b[0m\u001b[0;34m'-t 2 -c 0.1 -g 10'\u001b[0m\u001b[0;34m)\u001b[0m\u001b[0;34m)\u001b[0m\u001b[0;34m)\u001b[0m\u001b[0;34m\u001b[0m\u001b[0;34m\u001b[0m\u001b[0m\n\u001b[0;32m---> 32\u001b[0;31m \u001b[0mprint\u001b[0m\u001b[0;34m(\u001b[0m\u001b[0;34m'C = 1, Eout = '\u001b[0m  \u001b[0;34m+\u001b[0m \u001b[0mstr\u001b[0m\u001b[0;34m(\u001b[0m\u001b[0mcalculate_Eout\u001b[0m\u001b[0;34m(\u001b[0m\u001b[0mnewy6\u001b[0m\u001b[0;34m,\u001b[0m\u001b[0mxTrain\u001b[0m\u001b[0;34m,\u001b[0m\u001b[0mnewYTest\u001b[0m\u001b[0;34m,\u001b[0m\u001b[0mxTest\u001b[0m\u001b[0;34m,\u001b[0m\u001b[0;34m'-t 2 -c 1 -g 10'\u001b[0m\u001b[0;34m)\u001b[0m\u001b[0;34m)\u001b[0m\u001b[0;34m)\u001b[0m\u001b[0;34m\u001b[0m\u001b[0;34m\u001b[0m\u001b[0m\n\u001b[0m\u001b[1;32m     33\u001b[0m \u001b[0mprint\u001b[0m\u001b[0;34m(\u001b[0m\u001b[0;34m'C = 10, Eout = '\u001b[0m \u001b[0;34m+\u001b[0m \u001b[0mstr\u001b[0m\u001b[0;34m(\u001b[0m\u001b[0mcalculate_Eout\u001b[0m\u001b[0;34m(\u001b[0m\u001b[0mnewy6\u001b[0m\u001b[0;34m,\u001b[0m\u001b[0mxTrain\u001b[0m\u001b[0;34m,\u001b[0m\u001b[0mnewYTest\u001b[0m\u001b[0;34m,\u001b[0m\u001b[0mxTest\u001b[0m\u001b[0;34m,\u001b[0m\u001b[0;34m'-t 2 -c 10 -g 10'\u001b[0m\u001b[0;34m)\u001b[0m\u001b[0;34m)\u001b[0m\u001b[0;34m)\u001b[0m\u001b[0;34m\u001b[0m\u001b[0;34m\u001b[0m\u001b[0m\n\u001b[1;32m     34\u001b[0m \u001b[0mprint\u001b[0m\u001b[0;34m(\u001b[0m\u001b[0;34m'C = 100, Eout = '\u001b[0m\u001b[0;34m+\u001b[0m \u001b[0mstr\u001b[0m\u001b[0;34m(\u001b[0m\u001b[0mcalculate_Eout\u001b[0m\u001b[0;34m(\u001b[0m\u001b[0mnewy6\u001b[0m\u001b[0;34m,\u001b[0m\u001b[0mxTrain\u001b[0m\u001b[0;34m,\u001b[0m\u001b[0mnewYTest\u001b[0m\u001b[0;34m,\u001b[0m\u001b[0mxTest\u001b[0m\u001b[0;34m,\u001b[0m\u001b[0;34m'-t 2 -c 100 -g 10'\u001b[0m\u001b[0;34m)\u001b[0m\u001b[0;34m)\u001b[0m\u001b[0;34m)\u001b[0m\u001b[0;34m\u001b[0m\u001b[0;34m\u001b[0m\u001b[0m\n",
      "\u001b[0;32m<ipython-input-40-ca4974abecb7>\u001b[0m in \u001b[0;36mcalculate_Eout\u001b[0;34m(y, x, yTest, xTest, param)\u001b[0m\n\u001b[1;32m     16\u001b[0m         \u001b[0;32mfor\u001b[0m \u001b[0mj\u001b[0m \u001b[0;32min\u001b[0m \u001b[0mrange\u001b[0m \u001b[0;34m(\u001b[0m\u001b[0mm\u001b[0m\u001b[0;34m.\u001b[0m\u001b[0ml\u001b[0m\u001b[0;34m)\u001b[0m\u001b[0;34m:\u001b[0m\u001b[0;34m\u001b[0m\u001b[0;34m\u001b[0m\u001b[0m\n\u001b[1;32m     17\u001b[0m             \u001b[0mSVM_index\u001b[0m \u001b[0;34m=\u001b[0m \u001b[0mm\u001b[0m\u001b[0;34m.\u001b[0m\u001b[0msv_indices\u001b[0m\u001b[0;34m[\u001b[0m\u001b[0mj\u001b[0m\u001b[0;34m]\u001b[0m\u001b[0;34m-\u001b[0m\u001b[0;36m1\u001b[0m\u001b[0;34m\u001b[0m\u001b[0;34m\u001b[0m\u001b[0m\n\u001b[0;32m---> 18\u001b[0;31m             \u001b[0mgSVM\u001b[0m \u001b[0;34m=\u001b[0m \u001b[0mgSVM\u001b[0m \u001b[0;34m+\u001b[0m \u001b[0;34m(\u001b[0m\u001b[0mm\u001b[0m\u001b[0;34m.\u001b[0m\u001b[0msv_coef\u001b[0m\u001b[0;34m[\u001b[0m\u001b[0;36m0\u001b[0m\u001b[0;34m]\u001b[0m\u001b[0;34m[\u001b[0m\u001b[0mj\u001b[0m\u001b[0;34m]\u001b[0m \u001b[0;34m*\u001b[0m \u001b[0mGkernel\u001b[0m\u001b[0;34m(\u001b[0m\u001b[0msparse_to_dense\u001b[0m\u001b[0;34m(\u001b[0m\u001b[0mx\u001b[0m\u001b[0;34m[\u001b[0m\u001b[0mSVM_index\u001b[0m\u001b[0;34m]\u001b[0m\u001b[0;34m)\u001b[0m\u001b[0;34m,\u001b[0m\u001b[0msparse_to_dense\u001b[0m\u001b[0;34m(\u001b[0m\u001b[0mxTest\u001b[0m\u001b[0;34m[\u001b[0m\u001b[0mi\u001b[0m\u001b[0;34m]\u001b[0m\u001b[0;34m)\u001b[0m\u001b[0;34m,\u001b[0m\u001b[0mgamma\u001b[0m\u001b[0;34m)\u001b[0m \u001b[0;34m+\u001b[0m \u001b[0mb\u001b[0m\u001b[0;34m)\u001b[0m\u001b[0;34m\u001b[0m\u001b[0;34m\u001b[0m\u001b[0m\n\u001b[0m\u001b[1;32m     19\u001b[0m         \u001b[0;32mif\u001b[0m \u001b[0mgSVM\u001b[0m \u001b[0;34m*\u001b[0m \u001b[0myTest\u001b[0m\u001b[0;34m[\u001b[0m\u001b[0mi\u001b[0m\u001b[0;34m]\u001b[0m \u001b[0;34m<\u001b[0m \u001b[0;36m0\u001b[0m\u001b[0;34m:\u001b[0m\u001b[0;34m\u001b[0m\u001b[0;34m\u001b[0m\u001b[0m\n\u001b[1;32m     20\u001b[0m             \u001b[0mE_out\u001b[0m \u001b[0;34m+=\u001b[0m \u001b[0;36m1\u001b[0m\u001b[0;34m\u001b[0m\u001b[0;34m\u001b[0m\u001b[0m\n",
      "\u001b[0;32m<ipython-input-40-ca4974abecb7>\u001b[0m in \u001b[0;36mGkernel\u001b[0;34m(xn, xm, gamma)\u001b[0m\n\u001b[1;32m      1\u001b[0m \u001b[0;31m#question 18\u001b[0m\u001b[0;34m\u001b[0m\u001b[0;34m\u001b[0m\u001b[0;34m\u001b[0m\u001b[0m\n\u001b[1;32m      2\u001b[0m \u001b[0;32mdef\u001b[0m \u001b[0mGkernel\u001b[0m\u001b[0;34m(\u001b[0m\u001b[0mxn\u001b[0m\u001b[0;34m,\u001b[0m \u001b[0mxm\u001b[0m\u001b[0;34m,\u001b[0m \u001b[0mgamma\u001b[0m\u001b[0;34m)\u001b[0m\u001b[0;34m:\u001b[0m\u001b[0;34m\u001b[0m\u001b[0;34m\u001b[0m\u001b[0m\n\u001b[0;32m----> 3\u001b[0;31m     \u001b[0;32mreturn\u001b[0m \u001b[0mmath\u001b[0m\u001b[0;34m.\u001b[0m\u001b[0mexp\u001b[0m\u001b[0;34m(\u001b[0m\u001b[0;34m-\u001b[0m\u001b[0mgamma\u001b[0m \u001b[0;34m*\u001b[0m \u001b[0mnp\u001b[0m\u001b[0;34m.\u001b[0m\u001b[0mlinalg\u001b[0m\u001b[0;34m.\u001b[0m\u001b[0mnorm\u001b[0m\u001b[0;34m(\u001b[0m\u001b[0mxn\u001b[0m \u001b[0;34m-\u001b[0m \u001b[0mxm\u001b[0m\u001b[0;34m)\u001b[0m \u001b[0;34m**\u001b[0m \u001b[0;36m2\u001b[0m\u001b[0;34m)\u001b[0m\u001b[0;34m\u001b[0m\u001b[0;34m\u001b[0m\u001b[0m\n\u001b[0m\u001b[1;32m      4\u001b[0m \u001b[0;34m\u001b[0m\u001b[0m\n\u001b[1;32m      5\u001b[0m \u001b[0;32mdef\u001b[0m \u001b[0mcalculate_Eout\u001b[0m\u001b[0;34m(\u001b[0m\u001b[0my\u001b[0m\u001b[0;34m,\u001b[0m\u001b[0mx\u001b[0m\u001b[0;34m,\u001b[0m\u001b[0myTest\u001b[0m\u001b[0;34m,\u001b[0m\u001b[0mxTest\u001b[0m\u001b[0;34m,\u001b[0m\u001b[0mparam\u001b[0m\u001b[0;34m)\u001b[0m\u001b[0;34m:\u001b[0m\u001b[0;34m\u001b[0m\u001b[0;34m\u001b[0m\u001b[0m\n",
      "\u001b[0;32m<__array_function__ internals>\u001b[0m in \u001b[0;36mnorm\u001b[0;34m(*args, **kwargs)\u001b[0m\n",
      "\u001b[0;32m~/.local/lib/python3.6/site-packages/numpy/linalg/linalg.py\u001b[0m in \u001b[0;36mnorm\u001b[0;34m(x, ord, axis, keepdims)\u001b[0m\n\u001b[1;32m   2476\u001b[0m             (ord == 2 and ndim == 1)):\n\u001b[1;32m   2477\u001b[0m \u001b[0;34m\u001b[0m\u001b[0m\n\u001b[0;32m-> 2478\u001b[0;31m             \u001b[0mx\u001b[0m \u001b[0;34m=\u001b[0m \u001b[0mx\u001b[0m\u001b[0;34m.\u001b[0m\u001b[0mravel\u001b[0m\u001b[0;34m(\u001b[0m\u001b[0morder\u001b[0m\u001b[0;34m=\u001b[0m\u001b[0;34m'K'\u001b[0m\u001b[0;34m)\u001b[0m\u001b[0;34m\u001b[0m\u001b[0;34m\u001b[0m\u001b[0m\n\u001b[0m\u001b[1;32m   2479\u001b[0m             \u001b[0;32mif\u001b[0m \u001b[0misComplexType\u001b[0m\u001b[0;34m(\u001b[0m\u001b[0mx\u001b[0m\u001b[0;34m.\u001b[0m\u001b[0mdtype\u001b[0m\u001b[0;34m.\u001b[0m\u001b[0mtype\u001b[0m\u001b[0;34m)\u001b[0m\u001b[0;34m:\u001b[0m\u001b[0;34m\u001b[0m\u001b[0;34m\u001b[0m\u001b[0m\n\u001b[1;32m   2480\u001b[0m                 \u001b[0msqnorm\u001b[0m \u001b[0;34m=\u001b[0m \u001b[0mdot\u001b[0m\u001b[0;34m(\u001b[0m\u001b[0mx\u001b[0m\u001b[0;34m.\u001b[0m\u001b[0mreal\u001b[0m\u001b[0;34m,\u001b[0m \u001b[0mx\u001b[0m\u001b[0;34m.\u001b[0m\u001b[0mreal\u001b[0m\u001b[0;34m)\u001b[0m \u001b[0;34m+\u001b[0m \u001b[0mdot\u001b[0m\u001b[0;34m(\u001b[0m\u001b[0mx\u001b[0m\u001b[0;34m.\u001b[0m\u001b[0mimag\u001b[0m\u001b[0;34m,\u001b[0m \u001b[0mx\u001b[0m\u001b[0;34m.\u001b[0m\u001b[0mimag\u001b[0m\u001b[0;34m)\u001b[0m\u001b[0;34m\u001b[0m\u001b[0;34m\u001b[0m\u001b[0m\n",
      "\u001b[0;31mKeyboardInterrupt\u001b[0m: "
     ]
    }
   ],
   "source": [
    "\n",
    "#question 18\n",
    "def Gkernel(xn, xm, gamma):\n",
    "    return math.exp(-gamma * np.linalg.norm(xn - xm) ** 2)\n",
    "\n",
    "def calculate_Eout(y,x,yTest,xTest,param):\n",
    "    y = y.copy()\n",
    "    x = x.copy()\n",
    "    gamma = 10\n",
    "    m = svm_train(y,x,param)\n",
    "    print ('number of SVM = ' + str(m.l))\n",
    "    #calculate b\n",
    "    b = -m.rho[0]\n",
    "    E_out = 0\n",
    "    for i in range(len(yTest)):\n",
    "        gSVM = 0\n",
    "        for j in range (m.l):\n",
    "            SVM_index = m.sv_indices[j]-1\n",
    "            gSVM = gSVM + (m.sv_coef[0][j] * Gkernel(sparse_to_dense(x[SVM_index]),sparse_to_dense(xTest[i]),gamma) + b)\n",
    "        if gSVM * yTest[i] < 0:\n",
    "            E_out += 1\n",
    "    E_out = E_out/len(yTest)\n",
    "    return E_out\n",
    "\n",
    "\n",
    "\n",
    "yTest, xTest = read_data('satimage.scale.t')\n",
    "newy6 = to_binary_class(yTrain,6)\n",
    "newYTest = to_binary_class(yTest,6)\n",
    "\n",
    "print('C = 0.01, Eout = ' + str(calculate_Eout(newy6,xTrain,newYTest,xTest,'-t 2 -c 0.01 -g 10')))\n",
    "print('C = 0.1, Eout = ' + str(calculate_Eout(newy6,xTrain,newYTest,xTest,'-t 2 -c 0.1 -g 10')))\n",
    "print('C = 1, Eout = '  + str(calculate_Eout(newy6,xTrain,newYTest,xTest,'-t 2 -c 1 -g 10')))\n",
    "print('C = 10, Eout = ' + str(calculate_Eout(newy6,xTrain,newYTest,xTest,'-t 2 -c 10 -g 10')))\n",
    "print('C = 100, Eout = '+ str(calculate_Eout(newy6,xTrain,newYTest,xTest,'-t 2 -c 100 -g 10')))\n"
   ]
  },
  {
   "cell_type": "code",
   "execution_count": null,
   "metadata": {},
   "outputs": [],
   "source": []
  },
  {
   "cell_type": "code",
   "execution_count": 35,
   "metadata": {},
   "outputs": [
    {
     "name": "stdout",
     "output_type": "stream",
     "text": [
      "number of SVM = 1102\n",
      "-1.521412613816365\n",
      "gamma = 0.1, Eout = 0.235\n",
      "number of SVM = 1175\n",
      "-0.9289417665896331\n",
      "gamma = 1, Eout = 0.235\n",
      "number of SVM = 3883\n",
      "-0.951574004557945\n"
     ]
    },
    {
     "ename": "KeyboardInterrupt",
     "evalue": "",
     "output_type": "error",
     "traceback": [
      "\u001b[0;31m---------------------------------------------------------------------------\u001b[0m",
      "\u001b[0;31mKeyboardInterrupt\u001b[0m                         Traceback (most recent call last)",
      "\u001b[0;32m<ipython-input-35-044eed8f8fc6>\u001b[0m in \u001b[0;36m<module>\u001b[0;34m\u001b[0m\n\u001b[1;32m      2\u001b[0m \u001b[0mprint\u001b[0m\u001b[0;34m(\u001b[0m\u001b[0;34m'gamma = 0.1, Eout = '\u001b[0m \u001b[0;34m+\u001b[0m \u001b[0mstr\u001b[0m\u001b[0;34m(\u001b[0m\u001b[0mcalculate_Eout\u001b[0m\u001b[0;34m(\u001b[0m\u001b[0mnewy6\u001b[0m\u001b[0;34m,\u001b[0m\u001b[0mxTrain\u001b[0m\u001b[0;34m,\u001b[0m\u001b[0mnewYTest\u001b[0m\u001b[0;34m,\u001b[0m\u001b[0mxTest\u001b[0m\u001b[0;34m,\u001b[0m\u001b[0;36m0.1\u001b[0m\u001b[0;34m,\u001b[0m\u001b[0;36m0.1\u001b[0m\u001b[0;34m)\u001b[0m\u001b[0;34m)\u001b[0m\u001b[0;34m)\u001b[0m\u001b[0;34m\u001b[0m\u001b[0;34m\u001b[0m\u001b[0m\n\u001b[1;32m      3\u001b[0m \u001b[0mprint\u001b[0m\u001b[0;34m(\u001b[0m\u001b[0;34m'gamma = 1, Eout = '\u001b[0m \u001b[0;34m+\u001b[0m \u001b[0mstr\u001b[0m\u001b[0;34m(\u001b[0m\u001b[0mcalculate_Eout\u001b[0m\u001b[0;34m(\u001b[0m\u001b[0mnewy6\u001b[0m\u001b[0;34m,\u001b[0m\u001b[0mxTrain\u001b[0m\u001b[0;34m,\u001b[0m\u001b[0mnewYTest\u001b[0m\u001b[0;34m,\u001b[0m\u001b[0mxTest\u001b[0m\u001b[0;34m,\u001b[0m\u001b[0;36m0.1\u001b[0m\u001b[0;34m,\u001b[0m\u001b[0;36m1\u001b[0m\u001b[0;34m)\u001b[0m\u001b[0;34m)\u001b[0m\u001b[0;34m)\u001b[0m\u001b[0;34m\u001b[0m\u001b[0;34m\u001b[0m\u001b[0m\n\u001b[0;32m----> 4\u001b[0;31m \u001b[0mprint\u001b[0m\u001b[0;34m(\u001b[0m\u001b[0;34m'gamma = 10, Eout = '\u001b[0m  \u001b[0;34m+\u001b[0m \u001b[0mstr\u001b[0m\u001b[0;34m(\u001b[0m\u001b[0mcalculate_Eout\u001b[0m\u001b[0;34m(\u001b[0m\u001b[0mnewy6\u001b[0m\u001b[0;34m,\u001b[0m\u001b[0mxTrain\u001b[0m\u001b[0;34m,\u001b[0m\u001b[0mnewYTest\u001b[0m\u001b[0;34m,\u001b[0m\u001b[0mxTest\u001b[0m\u001b[0;34m,\u001b[0m\u001b[0;36m0.1\u001b[0m\u001b[0;34m,\u001b[0m\u001b[0;36m10\u001b[0m\u001b[0;34m)\u001b[0m\u001b[0;34m)\u001b[0m\u001b[0;34m)\u001b[0m\u001b[0;34m\u001b[0m\u001b[0;34m\u001b[0m\u001b[0m\n\u001b[0m\u001b[1;32m      5\u001b[0m \u001b[0mprint\u001b[0m\u001b[0;34m(\u001b[0m\u001b[0;34m'gamma = 100, Eout = '\u001b[0m \u001b[0;34m+\u001b[0m \u001b[0mstr\u001b[0m\u001b[0;34m(\u001b[0m\u001b[0mcalculate_Eout\u001b[0m\u001b[0;34m(\u001b[0m\u001b[0mnewy6\u001b[0m\u001b[0;34m,\u001b[0m\u001b[0mxTrain\u001b[0m\u001b[0;34m,\u001b[0m\u001b[0mnewYTest\u001b[0m\u001b[0;34m,\u001b[0m\u001b[0mxTest\u001b[0m\u001b[0;34m,\u001b[0m\u001b[0;36m0.1\u001b[0m\u001b[0;34m,\u001b[0m\u001b[0;36m100\u001b[0m\u001b[0;34m)\u001b[0m\u001b[0;34m)\u001b[0m\u001b[0;34m)\u001b[0m\u001b[0;34m\u001b[0m\u001b[0;34m\u001b[0m\u001b[0m\n\u001b[1;32m      6\u001b[0m \u001b[0mprint\u001b[0m\u001b[0;34m(\u001b[0m\u001b[0;34m'gamma = 1000, Eout = '\u001b[0m\u001b[0;34m+\u001b[0m \u001b[0mstr\u001b[0m\u001b[0;34m(\u001b[0m\u001b[0mcalculate_Eout\u001b[0m\u001b[0;34m(\u001b[0m\u001b[0mnewy6\u001b[0m\u001b[0;34m,\u001b[0m\u001b[0mxTrain\u001b[0m\u001b[0;34m,\u001b[0m\u001b[0mnewYTest\u001b[0m\u001b[0;34m,\u001b[0m\u001b[0mxTest\u001b[0m\u001b[0;34m,\u001b[0m\u001b[0;36m0.1\u001b[0m\u001b[0;34m,\u001b[0m\u001b[0;36m1000\u001b[0m\u001b[0;34m)\u001b[0m\u001b[0;34m)\u001b[0m\u001b[0;34m)\u001b[0m\u001b[0;34m\u001b[0m\u001b[0;34m\u001b[0m\u001b[0m\n",
      "\u001b[0;32m<ipython-input-34-9c634d455b3c>\u001b[0m in \u001b[0;36mcalculate_Eout\u001b[0;34m(y, x, yTest, xTest, C, gamma)\u001b[0m\n\u001b[1;32m     17\u001b[0m         \u001b[0;32mfor\u001b[0m \u001b[0mj\u001b[0m \u001b[0;32min\u001b[0m \u001b[0mrange\u001b[0m \u001b[0;34m(\u001b[0m\u001b[0mm\u001b[0m\u001b[0;34m.\u001b[0m\u001b[0ml\u001b[0m\u001b[0;34m)\u001b[0m\u001b[0;34m:\u001b[0m\u001b[0;34m\u001b[0m\u001b[0;34m\u001b[0m\u001b[0m\n\u001b[1;32m     18\u001b[0m             \u001b[0mSVM_index\u001b[0m \u001b[0;34m=\u001b[0m \u001b[0mm\u001b[0m\u001b[0;34m.\u001b[0m\u001b[0msv_indices\u001b[0m\u001b[0;34m[\u001b[0m\u001b[0mj\u001b[0m\u001b[0;34m]\u001b[0m\u001b[0;34m-\u001b[0m\u001b[0;36m1\u001b[0m\u001b[0;34m\u001b[0m\u001b[0;34m\u001b[0m\u001b[0m\n\u001b[0;32m---> 19\u001b[0;31m             \u001b[0mgSVM\u001b[0m \u001b[0;34m=\u001b[0m \u001b[0mgSVM\u001b[0m \u001b[0;34m+\u001b[0m \u001b[0;34m(\u001b[0m\u001b[0mm\u001b[0m\u001b[0;34m.\u001b[0m\u001b[0msv_coef\u001b[0m\u001b[0;34m[\u001b[0m\u001b[0;36m0\u001b[0m\u001b[0;34m]\u001b[0m\u001b[0;34m[\u001b[0m\u001b[0mj\u001b[0m\u001b[0;34m]\u001b[0m \u001b[0;34m*\u001b[0m \u001b[0mGkernel\u001b[0m\u001b[0;34m(\u001b[0m\u001b[0msparse_to_dense\u001b[0m\u001b[0;34m(\u001b[0m\u001b[0mx\u001b[0m\u001b[0;34m[\u001b[0m\u001b[0mSVM_index\u001b[0m\u001b[0;34m]\u001b[0m\u001b[0;34m)\u001b[0m\u001b[0;34m,\u001b[0m\u001b[0msparse_to_dense\u001b[0m\u001b[0;34m(\u001b[0m\u001b[0mxTest\u001b[0m\u001b[0;34m[\u001b[0m\u001b[0mi\u001b[0m\u001b[0;34m]\u001b[0m\u001b[0;34m)\u001b[0m\u001b[0;34m,\u001b[0m\u001b[0mgamma\u001b[0m\u001b[0;34m)\u001b[0m \u001b[0;34m+\u001b[0m \u001b[0mb\u001b[0m\u001b[0;34m)\u001b[0m\u001b[0;34m\u001b[0m\u001b[0;34m\u001b[0m\u001b[0m\n\u001b[0m\u001b[1;32m     20\u001b[0m         \u001b[0;32mif\u001b[0m \u001b[0mgSVM\u001b[0m \u001b[0;34m*\u001b[0m \u001b[0myTest\u001b[0m\u001b[0;34m[\u001b[0m\u001b[0mi\u001b[0m\u001b[0;34m]\u001b[0m \u001b[0;34m<\u001b[0m \u001b[0;36m0\u001b[0m\u001b[0;34m:\u001b[0m\u001b[0;34m\u001b[0m\u001b[0;34m\u001b[0m\u001b[0m\n\u001b[1;32m     21\u001b[0m             \u001b[0mE_out\u001b[0m \u001b[0;34m+=\u001b[0m \u001b[0;36m1\u001b[0m\u001b[0;34m\u001b[0m\u001b[0;34m\u001b[0m\u001b[0m\n",
      "\u001b[0;32m<ipython-input-1-2512d935ece1>\u001b[0m in \u001b[0;36msparse_to_dense\u001b[0;34m(xTrain)\u001b[0m\n\u001b[1;32m     25\u001b[0m         \u001b[0mi\u001b[0m \u001b[0;34m=\u001b[0m \u001b[0mindex\u001b[0m \u001b[0;34m+\u001b[0m\u001b[0;36m1\u001b[0m\u001b[0;34m\u001b[0m\u001b[0;34m\u001b[0m\u001b[0m\n\u001b[1;32m     26\u001b[0m         \u001b[0;32mif\u001b[0m \u001b[0mx\u001b[0m\u001b[0;34m.\u001b[0m\u001b[0mget\u001b[0m\u001b[0;34m(\u001b[0m\u001b[0mi\u001b[0m\u001b[0;34m)\u001b[0m \u001b[0;34m!=\u001b[0m \u001b[0;32mNone\u001b[0m\u001b[0;34m:\u001b[0m\u001b[0;34m\u001b[0m\u001b[0;34m\u001b[0m\u001b[0m\n\u001b[0;32m---> 27\u001b[0;31m             \u001b[0mnewX\u001b[0m\u001b[0;34m[\u001b[0m\u001b[0mindex\u001b[0m\u001b[0;34m]\u001b[0m \u001b[0;34m=\u001b[0m \u001b[0mx\u001b[0m\u001b[0;34m.\u001b[0m\u001b[0mget\u001b[0m\u001b[0;34m(\u001b[0m\u001b[0mi\u001b[0m\u001b[0;34m)\u001b[0m\u001b[0;34m\u001b[0m\u001b[0;34m\u001b[0m\u001b[0m\n\u001b[0m\u001b[1;32m     28\u001b[0m         \u001b[0;32melse\u001b[0m\u001b[0;34m:\u001b[0m\u001b[0;34m\u001b[0m\u001b[0;34m\u001b[0m\u001b[0m\n\u001b[1;32m     29\u001b[0m             \u001b[0mnewX\u001b[0m\u001b[0;34m[\u001b[0m\u001b[0mindex\u001b[0m\u001b[0;34m]\u001b[0m \u001b[0;34m=\u001b[0m \u001b[0;36m0\u001b[0m\u001b[0;34m\u001b[0m\u001b[0;34m\u001b[0m\u001b[0m\n",
      "\u001b[0;31mKeyboardInterrupt\u001b[0m: "
     ]
    }
   ],
   "source": [
    "#question 19\n",
    "print('gamma = 0.1, Eout = ' + str(calculate_Eout(newy6,xTrain,newYTest,xTest,0.1,0.1)))\n",
    "print('gamma = 1, Eout = ' + str(calculate_Eout(newy6,xTrain,newYTest,xTest,0.1,1)))\n",
    "print('gamma = 10, Eout = '  + str(calculate_Eout(newy6,xTrain,newYTest,xTest,0.1,10)))\n",
    "print('gamma = 100, Eout = ' + str(calculate_Eout(newy6,xTrain,newYTest,xTest,0.1,100)))\n",
    "print('gamma = 1000, Eout = '+ str(calculate_Eout(newy6,xTrain,newYTest,xTest,0.1,1000)))"
   ]
  },
  {
   "cell_type": "code",
   "execution_count": null,
   "metadata": {},
   "outputs": [],
   "source": [
    "#question 20\n",
    "\n"
   ]
  }
 ],
 "metadata": {
  "kernelspec": {
   "display_name": "Python 3",
   "language": "python",
   "name": "python3"
  },
  "language_info": {
   "codemirror_mode": {
    "name": "ipython",
    "version": 3
   },
   "file_extension": ".py",
   "mimetype": "text/x-python",
   "name": "python",
   "nbconvert_exporter": "python",
   "pygments_lexer": "ipython3",
   "version": "3.8.6"
  }
 },
 "nbformat": 4,
 "nbformat_minor": 4
}
