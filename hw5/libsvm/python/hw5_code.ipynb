{
 "cells": [
  {
   "cell_type": "code",
   "execution_count": 22,
   "metadata": {},
   "outputs": [],
   "source": [
    "import numpy as np\n",
    "import math \n",
    "from svmutil import *\n",
    "import multiprocessing as mp"
   ]
  },
  {
   "cell_type": "code",
   "execution_count": 23,
   "metadata": {},
   "outputs": [],
   "source": [
    "def toBinaryClass(yList,label):\n",
    "    return [1 - 2*(y != label) for y in yList]\n",
    "\n",
    "def SparseToDense(xTrain):\n",
    "    x = xTrain.copy()\n",
    "    xList = [x.get(i) for i in range(1,37)]\n",
    "    return np.array([0 if x == None else x for x in xList])"
   ]
  },
  {
   "cell_type": "code",
   "execution_count": 24,
   "metadata": {},
   "outputs": [
    {
     "name": "stdout",
     "output_type": "stream",
     "text": [
      "||w|| = 8.4571\tl = 500\n"
     ]
    }
   ],
   "source": [
    "#question 15\n",
    "def GetW(yTrain,xTrain):\n",
    "    yTrain = yTrain.copy()\n",
    "    xTrain = xTrain.copy()\n",
    "    m = svm_train(yTrain, xTrain, '-c 10 -t 0')\n",
    "    w = np.zeros(36)\n",
    "    for i in range(m.l):\n",
    "        w += m.sv_coef[0][i]*SparseToDense(xTrain[m.sv_indices[i]-1])\n",
    "    return w, m.l\n",
    "        \n",
    "    \n",
    "yTrain, xTrain = svm_read_problem('hw5_data/satimage.scale')\n",
    "newy3 = toBinaryClass(yTrain,3)\n",
    "w, l = GetW(newy3, xTrain)\n",
    "print('||w|| = {:.4f}\\tl = {}'.format(np.linalg.norm(w),l))"
   ]
  },
  {
   "cell_type": "code",
   "execution_count": 16,
   "metadata": {},
   "outputs": [],
   "source": [
    "#question 16 17\n",
    "m = None\n",
    "def kernel(xn, xm):\n",
    "    return (1+np.dot(xn,xm))**2\n",
    "\n",
    "def mpCalculation(args):\n",
    "    y, x, xTest_i = args\n",
    "    gSVM = 0\n",
    "    for j in range (m.l):\n",
    "        SVMidx = m.sv_indices[j]-1\n",
    "        gSVM += m.sv_coef[0][j]*kernel(SparseToDense(x[SVMidx]), SparseToDense(xTest_i))\n",
    "    return (gSVM - m.rho[0] )* y < 0\n",
    "\n",
    "def Ein(y, x):\n",
    "    global m\n",
    "    y, x = y.copy(), x.copy()\n",
    "    m = svm_train(y, x,'-t 1 -d 2 -g 1 -r 1 -c 10')\n",
    "    pool = mp.Pool(mp.cpu_count())\n",
    "    EinList = pool.map(mpCalculation, [(_y, x, x[i]) for i, _y in enumerate(y)])\n",
    "    return m.l, np.average(EinList)"
   ]
  },
  {
   "cell_type": "code",
   "execution_count": 17,
   "metadata": {},
   "outputs": [
    {
     "name": "stdout",
     "output_type": "stream",
     "text": [
      "***1 versus not 1:\n",
      "number of SVM: 145\tEin = 0.0007\n",
      "\n",
      "***2 versus not 2:\n",
      "number of SVM: 87\tEin = 0.0000\n",
      "\n",
      "***3 versus not 3:\n",
      "number of SVM: 433\tEin = 0.0223\n",
      "\n",
      "***4 versus not 4:\n",
      "number of SVM: 712\tEin = 0.0401\n",
      "\n",
      "***5 versus not 5:\n",
      "number of SVM: 259\tEin = 0.0068\n",
      "\n"
     ]
    }
   ],
   "source": [
    "#question 16 17\n",
    "yList = [toBinaryClass(yTrain, i) for i in range(1,6)]\n",
    "EinList = [Ein(y,xTrain) for y in yList]\n",
    "for i, (cnt, Ein) in enumerate(EinList):\n",
    "    print('***{} versus not {}:\\nnumber of SVM: {}\\tEin = {:.4f}\\n'.format(i+1, i+1, cnt, Ein))"
   ]
  },
  {
   "cell_type": "code",
   "execution_count": 18,
   "metadata": {},
   "outputs": [],
   "source": [
    "#question 18 19\n",
    "m = None\n",
    "def kernel(xn, xm, gamma):\n",
    "    return math.exp(-gamma * np.linalg.norm(xn - xm) ** 2)\n",
    "\n",
    "def mpCalculation(args):\n",
    "    y, x, xTest_i, gamma = args\n",
    "    gSVM = 0\n",
    "    for j in range (m.l):\n",
    "        SVMidx = m.sv_indices[j]-1\n",
    "        gSVM += m.sv_coef[0][j]*kernel(SparseToDense(x[SVMidx]), SparseToDense(xTest_i), gamma)\n",
    "    return (gSVM - m.rho[0]) * y < 0\n",
    "\n",
    "def Eout(y, x, yTest, xTest, C, gamma):\n",
    "    global m\n",
    "    y, x = y.copy(), x.copy()\n",
    "    m = svm_train(y, x, '-s 0 -t 2 -c '+str(C)+' -g '+str(gamma))\n",
    "    pool = mp.Pool(mp.cpu_count())\n",
    "    EoutList = pool.map(mpCalculation, [(y, x, xTest[i], gamma) for i, y in enumerate(yTest)])\n",
    "    return np.average(EoutList)"
   ]
  },
  {
   "cell_type": "code",
   "execution_count": 19,
   "metadata": {},
   "outputs": [
    {
     "name": "stdout",
     "output_type": "stream",
     "text": [
      "C = 0.01\tEout = 0.235000\n",
      "C = 0.1\tEout = 0.163500\n",
      "C = 1\tEout = 0.106500\n",
      "C = 10\tEout = 0.097000\n",
      "C = 100\tEout = 0.097000\n"
     ]
    }
   ],
   "source": [
    "#question 18\n",
    "yTest, xTest = svm_read_problem('hw5_data/satimage.scale.t')\n",
    "yTrain = toBinaryClass(yTrain, 6)\n",
    "yTest = toBinaryClass(yTest, 6)\n",
    "\n",
    "for order in range(-2, 3):\n",
    "    C = 10**order\n",
    "    print(\"C = {}\\tEout = {:.6f}\".format(C, Eout(yTrain, xTrain, yTest, xTest, C, 10)))"
   ]
  },
  {
   "cell_type": "code",
   "execution_count": 25,
   "metadata": {},
   "outputs": [
    {
     "name": "stdout",
     "output_type": "stream",
     "text": [
      "gamma = 0.1\tEout = 0.098500\n",
      "gamma = 1\tEout = 0.070000\n",
      "gamma = 10\tEout = 0.163500\n",
      "gamma = 100\tEout = 0.235000\n",
      "gamma = 1000\tEout = 0.235000\n"
     ]
    }
   ],
   "source": [
    "#question 19\n",
    "yTest, xTest = svm_read_problem('hw5_data/satimage.scale.t')\n",
    "yTrain = toBinaryClass(yTrain, 6)\n",
    "yTest = toBinaryClass(yTest, 6)\n",
    "\n",
    "for order in range(-1, 4):\n",
    "    gamma = 10**order\n",
    "    print(\"gamma = {}\\tEout = {:.6f}\".format(gamma, Eout(yTrain, xTrain, yTest, xTest, 0.1, gamma)))"
   ]
  }
 ],
 "metadata": {
  "kernelspec": {
   "display_name": "Python 3",
   "language": "python",
   "name": "python3"
  },
  "language_info": {
   "codemirror_mode": {
    "name": "ipython",
    "version": 3
   },
   "file_extension": ".py",
   "mimetype": "text/x-python",
   "name": "python",
   "nbconvert_exporter": "python",
   "pygments_lexer": "ipython3",
   "version": "3.8.6"
  }
 },
 "nbformat": 4,
 "nbformat_minor": 4
}
