{
 "cells": [
  {
   "cell_type": "code",
   "execution_count": 1,
   "metadata": {},
   "outputs": [],
   "source": [
    "import glob\n",
    "import os\n",
    "import numpy as np\n",
    "import csv\n",
    "import multiprocessing as mp"
   ]
  },
  {
   "cell_type": "code",
   "execution_count": 2,
   "metadata": {},
   "outputs": [],
   "source": [
    "def loadData(filename):   \n",
    "    with open(filename,'r') as file:  \n",
    "        dataSet = [[1]+line[0].split('\\t') for line in csv.reader(file)]\n",
    "    return np.array(dataSet, dtype = \"float32\") \n",
    "\n",
    "class dataLoader():\n",
    "    def __init__(self, fn):\n",
    "        self.dataSet = loadData(fn)\n",
    "        self.len = len(self.dataSet)\n",
    "        self.nonlinearized = False\n",
    "        self.expandedDataSet = None\n",
    "        self.fn = fn\n",
    "    \n",
    "    def getData(self, i):\n",
    "        dataSet = self.expandedDataSet if self.nonlinearized else self.dataSet\n",
    "        index = min(i,self.len-1)\n",
    "        xn, yn = dataSet[index][:-1], dataSet[index][-1]\n",
    "        return np.reshape(xn,(len(xn),1)), int(yn)\n",
    "    \n",
    "    def getRandomData(self):\n",
    "        return self.getData(np.random.randint(self.len))\n",
    "    \n",
    "    def getDataSet(self):\n",
    "        return [self.getData(i) for i in range(self.len)]\n",
    "    \n",
    "    def nonlinearExpension(self, q):\n",
    "        self.nonlinearized = False\n",
    "        xSet = [arg[0][1:] for arg in self.getDataSet()]\n",
    "        ySet = [arg[1] for arg in self.getDataSet()]\n",
    "        expandedList = [[float(xi)**(i+1) for i in range(q) for xi in xn] for xn in xSet]\n",
    "        expandedList = [[1]+xn+[ySet[i]] for i, xn in enumerate(expandedList)]\n",
    "        self.expandedDataSet = np.array(expandedList)\n",
    "        self.nonlinearized = True\n",
    "        print(self.fn,'has been nonlinearly expanded')\n",
    "        \n",
    "    def getMatX(self):\n",
    "        dataSet = self.expandedDataSet if self.nonlinearized else self.dataSet\n",
    "        return dataSet[:,:-1]\n",
    "    \n",
    "    def getVecY(self):\n",
    "        dataSet = self.expandedDataSet if self.nonlinearized else self.dataSet\n",
    "        return dataSet[:,-1:]\n",
    "            \n",
    "    def __len__(self):\n",
    "        return self.len"
   ]
  },
  {
   "cell_type": "code",
   "execution_count": 3,
   "metadata": {},
   "outputs": [],
   "source": [
    "trainData = dataLoader('hw3_train.dat')\n",
    "testData = dataLoader('hw3_test.dat')"
   ]
  },
  {
   "cell_type": "code",
   "execution_count": 4,
   "metadata": {},
   "outputs": [
    {
     "name": "stdout",
     "output_type": "stream",
     "text": [
      "Ein = 0.6053223755451654\n"
     ]
    }
   ],
   "source": [
    "# question 14\n",
    "def linearRegression(data = trainData):\n",
    "    X, y = data.getMatX(), data.getVecY()\n",
    "    return np.linalg.pinv(X).dot(y)\n",
    "\n",
    "def squaredE(wt, data = trainData):\n",
    "    X, y = data.getMatX(), data.getVecY()\n",
    "    return np.linalg.norm(X.dot(wt)-y)**2/len(data)\n",
    "\n",
    "w_lin = linearRegression()\n",
    "Ein_lin = squaredE(w_lin)\n",
    "\n",
    "print('Ein =', Ein_lin)"
   ]
  },
  {
   "cell_type": "code",
   "execution_count": 5,
   "metadata": {},
   "outputs": [
    {
     "name": "stdout",
     "output_type": "stream",
     "text": [
      "average: 1650.27\n"
     ]
    }
   ],
   "source": [
    "# question 15\n",
    "def stochasticGradientDescent(lr = 0.001):\n",
    "    wt = np.zeros((11,1))\n",
    "    iteration = 0\n",
    "    while squaredE(wt) > 1.01*Ein_lin:\n",
    "        xn, yn = trainData.getRandomData()\n",
    "        wt += -lr*2*(wt.transpose().dot(xn)-yn)*xn\n",
    "        iteration += 1\n",
    "    return iteration\n",
    "\n",
    "def mpStochasticGradientDescent(index):\n",
    "    return stochasticGradientDescent()\n",
    "\n",
    "pool = mp.Pool(mp.cpu_count())\n",
    "iterationList = pool.map(mpStochasticGradientDescent, range(100))\n",
    "print('average:', np.average(iterationList))"
   ]
  },
  {
   "cell_type": "code",
   "execution_count": 5,
   "metadata": {},
   "outputs": [
    {
     "name": "stdout",
     "output_type": "stream",
     "text": [
      "average: 0.5684016888300671\n"
     ]
    }
   ],
   "source": [
    "# question 16\n",
    "def theta(s):\n",
    "    return 1/(1+np.exp(-s))\n",
    "\n",
    "def crossEntropy(wt):\n",
    "    cossEntropyList = [-np.log(theta(yn*wt.transpose().dot(xn))) for xn, yn in trainData.getDataSet()]\n",
    "    return np.average(cossEntropyList)\n",
    "        \n",
    "def stochasticGradientDescent(lr = 0.001, max_ite = 500):\n",
    "    wt = np.zeros((11,1))\n",
    "    for i in range(max_ite):\n",
    "        xn, yn = trainData.getRandomData()\n",
    "        wt += lr*theta(-yn*wt.transpose().dot(xn))*yn*xn\n",
    "    return crossEntropy(wt)\n",
    "\n",
    "def mpStochasticGradientDescent(index):\n",
    "    return stochasticGradientDescent()\n",
    "\n",
    "pool = mp.Pool(mp.cpu_count())\n",
    "iterationList = pool.map(mpStochasticGradientDescent, range(1000))\n",
    "print('average:', np.average(iterationList))"
   ]
  },
  {
   "cell_type": "code",
   "execution_count": 6,
   "metadata": {},
   "outputs": [
    {
     "name": "stdout",
     "output_type": "stream",
     "text": [
      "average: 0.442359\n"
     ]
    }
   ],
   "source": [
    "# question 17\n",
    "def stochasticGradientDescent(lr = 0.001, max_ite = 500):\n",
    "    wt = w_lin\n",
    "    for i in range(max_ite):\n",
    "        xn, yn = trainData.getRandomData()\n",
    "        wt += lr*theta(-yn*wt.transpose().dot(xn))*yn*xn\n",
    "    return crossEntropy(wt)\n",
    "\n",
    "def mpStochasticGradientDescent(index):\n",
    "    return stochasticGradientDescent()\n",
    "\n",
    "pool = mp.Pool(mp.cpu_count())\n",
    "iterationList = pool.map(mpStochasticGradientDescent, range(1000))\n",
    "print('average:', np.average(iterationList))"
   ]
  },
  {
   "cell_type": "code",
   "execution_count": 7,
   "metadata": {},
   "outputs": [
    {
     "name": "stdout",
     "output_type": "stream",
     "text": [
      "ans = 0.3226666666666667\n"
     ]
    }
   ],
   "source": [
    "# question 18\n",
    "def sign(x):\n",
    "    return 2*(0 < x)-1\n",
    "\n",
    "def zeroOneE(data):\n",
    "    w_lin = linearRegression()\n",
    "    logicList = [sign(w_lin.transpose().dot(xn)) == yn for xn, yn in data.getDataSet()]\n",
    "    return np.average(logicList)\n",
    "\n",
    "print('ans =', abs(zeroOneE(trainData)-zeroOneE(testData)))"
   ]
  },
  {
   "cell_type": "code",
   "execution_count": 8,
   "metadata": {},
   "outputs": [
    {
     "name": "stdout",
     "output_type": "stream",
     "text": [
      "hw3_train.dat has been nonlinearly expanded\n",
      "hw3_test.dat has been nonlinearly expanded\n",
      "ans = 0.3736666666666667\n"
     ]
    }
   ],
   "source": [
    "# question 19\n",
    "trainData.nonlinearExpension(3)\n",
    "testData.nonlinearExpension(3)\n",
    "print('ans =', abs(zeroOneE(trainData)-zeroOneE(testData)))"
   ]
  },
  {
   "cell_type": "code",
   "execution_count": 9,
   "metadata": {},
   "outputs": [
    {
     "name": "stdout",
     "output_type": "stream",
     "text": [
      "hw3_train.dat has been nonlinearly expanded\n",
      "hw3_test.dat has been nonlinearly expanded\n",
      "ans = 0.44666666666666666\n"
     ]
    }
   ],
   "source": [
    "# question 20\n",
    "trainData.nonlinearExpension(10)\n",
    "testData.nonlinearExpension(10)\n",
    "print('ans =', abs(zeroOneE(trainData)-zeroOneE(testData)))"
   ]
  }
 ],
 "metadata": {
  "kernelspec": {
   "display_name": "Python 3",
   "language": "python",
   "name": "python3"
  },
  "language_info": {
   "codemirror_mode": {
    "name": "ipython",
    "version": 3
   },
   "file_extension": ".py",
   "mimetype": "text/x-python",
   "name": "python",
   "nbconvert_exporter": "python",
   "pygments_lexer": "ipython3",
   "version": "3.8.6"
  }
 },
 "nbformat": 4,
 "nbformat_minor": 4
}
