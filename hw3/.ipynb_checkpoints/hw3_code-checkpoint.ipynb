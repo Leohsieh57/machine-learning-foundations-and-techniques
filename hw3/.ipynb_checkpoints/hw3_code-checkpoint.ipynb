{
 "cells": [
  {
   "cell_type": "code",
   "execution_count": 1,
   "metadata": {},
   "outputs": [],
   "source": [
    "import glob\n",
    "import os\n",
    "import numpy as np\n",
    "import csv\n",
    "import multiprocessing as mp"
   ]
  },
  {
   "cell_type": "code",
   "execution_count": 2,
   "metadata": {},
   "outputs": [],
   "source": [
    "def loadData(filename):   \n",
    "    with open(filename,'r') as file:  \n",
    "        dataSet = [[1]+line[0].split('\\t') for line in csv.reader(file)]\n",
    "    return np.array(dataSet, dtype = \"float32\") \n",
    "\n",
    "class dataLoader():\n",
    "    def __init__(self, fn):\n",
    "        self.dataSet = loadData(fn)\n",
    "        self.len = len(self.dataSet)\n",
    "    \n",
    "    def getData(self, i):\n",
    "        index = min(i,self.len-1)\n",
    "        data, target = self.dataSet[index][:-1], self.dataSet[index][-1]\n",
    "        return np.reshape(data,(len(data),1)), int(target)\n",
    "            \n",
    "    def __len__(self):\n",
    "        return self.len"
   ]
  },
  {
   "cell_type": "code",
   "execution_count": 3,
   "metadata": {},
   "outputs": [],
   "source": [
    "trainData = dataLoader('hw3_train.dat')\n",
    "testData = dataLoader('hw3_test.dat')"
   ]
  },
  {
   "cell_type": "code",
   "execution_count": 4,
   "metadata": {},
   "outputs": [
    {
     "name": "stdout",
     "output_type": "stream",
     "text": [
      "Ein = 0.6053223755451654\n",
      "[[ 0.00754448]\n",
      " [ 0.14325774]\n",
      " [ 0.03548978]\n",
      " [ 0.02775754]\n",
      " [ 0.02547401]\n",
      " [-0.08173502]\n",
      " [ 0.0807915 ]\n",
      " [-0.1092945 ]\n",
      " [ 0.07789521]\n",
      " [ 0.1640752 ]\n",
      " [ 0.14069183]]\n"
     ]
    }
   ],
   "source": [
    "# question 14\n",
    "def linearRegressionAlgorithm():\n",
    "    X, y = trainData.dataSet[:,:-1], trainData.dataSet[:,-1:]\n",
    "    return np.linalg.pinv(X).dot(y)\n",
    "\n",
    "def averagedSquareError(w):\n",
    "    X, y = trainData.dataSet[:,:-1], trainData.dataSet[:,-1:]\n",
    "    return np.linalg.norm(X.dot(w)-y)**2/len(trainData)\n",
    "\n",
    "w_opt = linearRegressionAlgorithm()\n",
    "Ein_opt = averagedSquareError(w_opt)\n",
    "\n",
    "print('Ein =', Ein_opt)"
   ]
  },
  {
   "cell_type": "code",
   "execution_count": 5,
   "metadata": {},
   "outputs": [
    {
     "name": "stdout",
     "output_type": "stream",
     "text": [
      "average: 2099.51\n"
     ]
    }
   ],
   "source": [
    "# question 15\n",
    "def stochasticGradientDescent(lr = 0.001):\n",
    "    wt = np.zeros((11,1))\n",
    "    iteration = 0\n",
    "    while averagedSquareError(wt) > 1.01*Ein_opt:\n",
    "        xn, yn = trainData.getData(np.random.randint(len(trainData)))\n",
    "        wt += -lr*2*(wt.transpose().dot(xn)-yn)*xn\n",
    "        iteration += 1\n",
    "    return iteration\n",
    "\n",
    "def mpStochasticGradientDescent(index):\n",
    "    return stochasticGradientDescent()\n",
    "\n",
    "pool = mp.Pool(mp.cpu_count())\n",
    "iterationList = pool.map(mpStochasticGradientDescent, range(100))\n",
    "print('average:', np.average(iterationList))"
   ]
  },
  {
   "cell_type": "code",
   "execution_count": 6,
   "metadata": {},
   "outputs": [
    {
     "name": "stdout",
     "output_type": "stream",
     "text": [
      "average: 0.5686190349471474\n"
     ]
    }
   ],
   "source": [
    "# question 16\n",
    "def theta(args, w):\n",
    "    x, y = args\n",
    "    return 1/(1+np.exp(-y*w.transpose().dot(x)))\n",
    "\n",
    "def crossEntropy(wt):\n",
    "    cossEntropyList = [-np.log(theta(trainData.getData(i), wt)) for i in range(len(trainData))]\n",
    "    return np.average(cossEntropyList)\n",
    "        \n",
    "def stochasticGradientDescent(lr = 0.001, max_ite = 500):\n",
    "    wt = np.zeros((11,1))\n",
    "    for i in range(max_ite):\n",
    "        xn, yn = trainData.getData(np.random.randint(len(trainData)))\n",
    "        wt += lr*theta((xn,-yn), wt)*yn*xn\n",
    "    return crossEntropy(wt)\n",
    "\n",
    "def mpStochasticGradientDescent(index):\n",
    "    return stochasticGradientDescent()\n",
    "\n",
    "pool = mp.Pool(mp.cpu_count())\n",
    "iterationList = pool.map(mpStochasticGradientDescent, range(1000))\n",
    "print('average:', np.average(iterationList))"
   ]
  },
  {
   "cell_type": "code",
   "execution_count": 7,
   "metadata": {},
   "outputs": [
    {
     "name": "stdout",
     "output_type": "stream",
     "text": [
      "average: 0.44229922\n"
     ]
    }
   ],
   "source": [
    "# question 17\n",
    "def theta(args, w):\n",
    "    x, y = args\n",
    "    return 1/(1+np.exp(-y*w.transpose().dot(x)))\n",
    "\n",
    "def crossEntropy(wt):\n",
    "    cossEntropyList = [-np.log(theta(trainData.getData(i), wt)) for i in range(len(trainData))]\n",
    "    return np.average(cossEntropyList)\n",
    "        \n",
    "def stochasticGradientDescent(lr = 0.001, max_ite = 500):\n",
    "    wt = w_opt\n",
    "    for i in range(max_ite):\n",
    "        xn, yn = trainData.getData(np.random.randint(len(trainData)))\n",
    "        wt += lr*theta((xn,-yn), wt)*yn*xn\n",
    "    return crossEntropy(wt)\n",
    "\n",
    "def mpStochasticGradientDescent(index):\n",
    "    return stochasticGradientDescent()\n",
    "\n",
    "pool = mp.Pool(mp.cpu_count())\n",
    "iterationList = pool.map(mpStochasticGradientDescent, range(1000))\n",
    "print('average:', np.average(iterationList))"
   ]
  },
  {
   "cell_type": "code",
   "execution_count": 8,
   "metadata": {},
   "outputs": [
    {
     "name": "stdout",
     "output_type": "stream",
     "text": [
      "ans = 0.3226666666666667\n"
     ]
    }
   ],
   "source": [
    "# question 18\n",
    "def sign(x):\n",
    "    return 2*(0 < x)-1\n",
    "\n",
    "def linearRegressionAlgorithm(data):\n",
    "    X, y = data.dataSet[:,:-1], data.dataSet[:,-1:]\n",
    "    return np.linalg.pinv(X).dot(y)\n",
    "\n",
    "def testSample(args,w):\n",
    "    x, y = args\n",
    "    return sign(w.transpose().dot(x)) == y\n",
    "\n",
    "def averagedZeroOneError(data):\n",
    "    X, y = data.dataSet[:,:-1], data.dataSet[:,-1:]\n",
    "    w = linearRegressionAlgorithm(trainData)\n",
    "    logicList = [testSample(data.getData(i),w) for i in range(len(data))]\n",
    "    return np.average(logicList)\n",
    "\n",
    "print('ans =', abs(averagedZeroOneError(trainData)-averagedZeroOneError(testData)))"
   ]
  },
  {
   "cell_type": "code",
   "execution_count": 9,
   "metadata": {},
   "outputs": [
    {
     "name": "stdout",
     "output_type": "stream",
     "text": [
      "ans = 0.3736666666666667\n"
     ]
    }
   ],
   "source": [
    "# question 19\n",
    "def loadDataNonlinear(filename, q):   \n",
    "    with open(filename,'r') as file:  \n",
    "        dataSet = [nonlinearExpension(line[0].split('\\t'), q) for line in csv.reader(file)]\n",
    "    return np.array(dataSet, dtype = \"float32\") \n",
    "\n",
    "def nonlinearExpension(vector, q):\n",
    "    expandedList = []\n",
    "    for i in range(q):\n",
    "        expandedList += [float(x)**(i+1) for x in vector[:-1]]\n",
    "    return [1]+expandedList+[vector[-1]]\n",
    "    \n",
    "class dataLoader():\n",
    "    def __init__(self, fn, q):\n",
    "        self.dataSet = loadDataNonlinear(fn, q)\n",
    "        self.len = len(self.dataSet)\n",
    "    \n",
    "    def getData(self, i):\n",
    "        index = min(i,self.len-1)\n",
    "        data, target = self.dataSet[index][:-1], self.dataSet[index][-1]\n",
    "        return np.reshape(data,(len(data),1)), int(target)\n",
    "            \n",
    "    def __len__(self):\n",
    "        return self.len\n",
    "\n",
    "trainData = dataLoader('hw3_train.dat',3)\n",
    "testData = dataLoader('hw3_test.dat',3)\n",
    "print('ans =', abs(averagedZeroOneError(trainData)-averagedZeroOneError(testData)))"
   ]
  },
  {
   "cell_type": "code",
   "execution_count": 10,
   "metadata": {},
   "outputs": [
    {
     "name": "stdout",
     "output_type": "stream",
     "text": [
      "ans = 0.44666666666666666\n"
     ]
    }
   ],
   "source": [
    "# question 20\n",
    "trainData = dataLoader('hw3_train.dat',10)\n",
    "testData = dataLoader('hw3_test.dat',10)\n",
    "print('ans =', abs(averagedZeroOneError(trainData)-averagedZeroOneError(testData)))"
   ]
  }
 ],
 "metadata": {
  "kernelspec": {
   "display_name": "Python 3",
   "language": "python",
   "name": "python3"
  },
  "language_info": {
   "codemirror_mode": {
    "name": "ipython",
    "version": 3
   },
   "file_extension": ".py",
   "mimetype": "text/x-python",
   "name": "python",
   "nbconvert_exporter": "python",
   "pygments_lexer": "ipython3",
   "version": "3.8.6"
  }
 },
 "nbformat": 4,
 "nbformat_minor": 4
}
