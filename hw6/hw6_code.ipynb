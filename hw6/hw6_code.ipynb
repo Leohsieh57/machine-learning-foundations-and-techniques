{
 "cells": [
  {
   "cell_type": "code",
   "execution_count": 61,
   "metadata": {},
   "outputs": [],
   "source": [
    "import pandas as pd\n",
    "import csv\n",
    "import numpy as np"
   ]
  },
  {
   "cell_type": "code",
   "execution_count": 68,
   "metadata": {},
   "outputs": [],
   "source": [
    "class dataSet:\n",
    "    def __init__(self, fn):\n",
    "        file = open(fn)\n",
    "        data = [[float(mem) for mem in line[:-2].split(' ')] for line in file]\n",
    "        self.data = np.array(data)\n",
    "        self.dataCnt = self.data.shape[0]\n",
    "        self.featCnt = self.data.shape[1]-1\n",
    "        \n",
    "    def getItem(self, idx):\n",
    "        assert(idx < self.dataCnt)\n",
    "        label = self.data[idx][-1]\n",
    "        feat = self.data[idx][:-1]\n",
    "        return feat, label\n",
    "    \n",
    "    def getFeat(self, idx):\n",
    "        assert(idx < self.featCnt)\n",
    "        return self.data[:,idx]"
   ]
  },
  {
   "cell_type": "code",
   "execution_count": 69,
   "metadata": {},
   "outputs": [],
   "source": [
    "train, test = dataSet('test.dat'), dataSet('train.dat')"
   ]
  },
  {
   "cell_type": "code",
   "execution_count": 71,
   "metadata": {},
   "outputs": [
    {
     "name": "stdout",
     "output_type": "stream",
     "text": [
      "(array([-0.54582793,  0.77878532,  0.08592099, -1.7335119 ,  2.57531476,\n",
      "       -1.93269245,  0.3634609 ,  0.9513291 ,  1.21068115, -0.25649693]), -1.0)\n",
      "(1000,)\n"
     ]
    }
   ],
   "source": [
    "print(train.getItem(2))\n",
    "print(train.getFeat(2).shape)"
   ]
  },
  {
   "cell_type": "code",
   "execution_count": null,
   "metadata": {},
   "outputs": [],
   "source": []
  }
 ],
 "metadata": {
  "kernelspec": {
   "display_name": "Python 3",
   "language": "python",
   "name": "python3"
  },
  "language_info": {
   "codemirror_mode": {
    "name": "ipython",
    "version": 3
   },
   "file_extension": ".py",
   "mimetype": "text/x-python",
   "name": "python",
   "nbconvert_exporter": "python",
   "pygments_lexer": "ipython3",
   "version": "3.9.1"
  }
 },
 "nbformat": 4,
 "nbformat_minor": 4
}
