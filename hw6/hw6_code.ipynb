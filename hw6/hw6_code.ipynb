{
 "cells": [
  {
   "cell_type": "code",
   "execution_count": 7,
   "metadata": {},
   "outputs": [],
   "source": [
    "import numpy as np"
   ]
  },
  {
   "cell_type": "code",
   "execution_count": 8,
   "metadata": {},
   "outputs": [],
   "source": [
    "#load data\n",
    "class DataSet:\n",
    "    def __init__(self, fn):\n",
    "        file = open(fn)\n",
    "        data = [[float(mem) for mem in line[:-2].split(' ')] for line in file]\n",
    "        self.data = np.array(data)\n",
    "        self.DataCnt = self.data.shape[0]\n",
    "        self.FeatCnt = self.data.shape[1]-1\n",
    "        \n",
    "    def GetItem(self, idx):\n",
    "        assert(idx < self.DataCnt)\n",
    "        label = self.data[idx][-1]\n",
    "        feat = self.data[idx][:-1]\n",
    "        return feat, label\n",
    "    \n",
    "    def GetFeat(self, idx): #ith feat\n",
    "        assert(idx < self.FeatCnt)\n",
    "        FeatList = self.data[:,idx]\n",
    "        LabelList = self.data[:,-1]\n",
    "        return FeatList, LabelList\n",
    "    \n",
    "    def GetFeatFull(self):\n",
    "        return [self.GetFeat(idx) for idx in range(self.FeatCnt)]\n",
    "    "
   ]
  },
  {
   "cell_type": "code",
   "execution_count": 9,
   "metadata": {},
   "outputs": [],
   "source": [
    "train, test = DataSet('test.dat'), DataSet('train.dat')"
   ]
  },
  {
   "cell_type": "code",
   "execution_count": 13,
   "metadata": {},
   "outputs": [],
   "source": [
    "#question 14\n",
    "def sign(x):\n",
    "    return 2*(0 < x)-1\n",
    "\n",
    "def h(x, s, theta):\n",
    "    return s*sign(x-theta)\n",
    "\n",
    "class DecisionStumpModel:\n",
    "    def __init__(self, FeatList, LabelList):\n",
    "        self.FeatList = list(FeatList)\n",
    "        self.LabelList = list(LabelList)\n",
    "    \n",
    "    def Ein(self, s, theta):\n",
    "        ErrorList = [label != h(feat, s, theta) for feat, label in zip(self.FeatList, self.LabelList)]\n",
    "        return np.average(ErrorList)\n",
    "    \n",
    "    def GetOptParams(self):\n",
    "        xSet = sorted(list(self.FeatList))\n",
    "        ThetaDomain = [-1] + [0.5*(x1+x2) for x1, x2 in zip(xSet, xSet[1:]) if x1 != x2]\n",
    "        EinParamList = [(self.Ein(s, theta), s, theta) for s in [-1,1] for theta in ThetaDomain]\n",
    "        return min(EinParamList)"
   ]
  },
  {
   "cell_type": "code",
   "execution_count": null,
   "metadata": {},
   "outputs": [
    {
     "name": "stdout",
     "output_type": "stream",
     "text": [
      "s\n"
     ]
    }
   ],
   "source": [
    "#question 14\n",
    "def mpEin(model):\n",
    "    print('a')\n",
    "    return model.GetOptParams(self)\n",
    "\n",
    "if __name__ == '__main__':\n",
    "    train, test = DataSet('test.dat'), DataSet('train.dat')\n",
    "    ModelList = [DecisionStumpModel(feat, label) for feat, label in train.GetFeatFull()]\n",
    "    print('s')\n",
    "    pool = mp.Pool(12)\n",
    "    print(pool.map(mpEin, ModelList))"
   ]
  },
  {
   "cell_type": "code",
   "execution_count": null,
   "metadata": {},
   "outputs": [],
   "source": []
  }
 ],
 "metadata": {
  "kernelspec": {
   "display_name": "Python 3",
   "language": "python",
   "name": "python3"
  },
  "language_info": {
   "codemirror_mode": {
    "name": "ipython",
    "version": 3
   },
   "file_extension": ".py",
   "mimetype": "text/x-python",
   "name": "python",
   "nbconvert_exporter": "python",
   "pygments_lexer": "ipython3",
   "version": "3.9.1"
  }
 },
 "nbformat": 4,
 "nbformat_minor": 4
}
